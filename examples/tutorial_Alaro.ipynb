{
 "cells": [
  {
   "cell_type": "markdown",
   "metadata": {},
   "source": [
    "# Introduction\n",
    "\n",
    "This notebook introduces the OpenKMI package. OpenKMI serves as a wrapper around the WFS and WMS service that KMI offers to download synoptic measurements, data from the automatic weather stations and ALARO forecasts.\n",
    "\n",
    "This notebook focuses on the Alaro forecasts.\n",
    "\n",
    "https://opendata.meteo.be/geonetwork/srv/eng/catalog.search;jsessionid=1A4FC7644B7C0B8D17287BA7A9A21278#/metadata/RMI_DATASET_ALARO\n"
   ]
  },
  {
   "cell_type": "markdown",
   "metadata": {},
   "source": [
    "# Initialize the package"
   ]
  },
  {
   "cell_type": "markdown",
   "metadata": {},
   "source": [
    "First load the modules we will use"
   ]
  },
  {
   "cell_type": "code",
   "execution_count": 1,
   "metadata": {},
   "outputs": [],
   "source": [
    "import os\n",
    "import sys\n",
    "import matplotlib.pyplot as plt\n",
    "import pandas as pd   \n",
    "from openkmi.grid_data import Alaro\n",
    "from openkmi.point_obs import AWS\n",
    "from datetime import datetime, timedelta"
   ]
  },
  {
   "cell_type": "markdown",
   "metadata": {},
   "source": [
    "Then initialize the package. "
   ]
  },
  {
   "cell_type": "code",
   "execution_count": 2,
   "metadata": {},
   "outputs": [],
   "source": [
    "kmi = Alaro()"
   ]
  },
  {
   "cell_type": "markdown",
   "metadata": {},
   "source": [
    "# Inspect the available data"
   ]
  },
  {
   "cell_type": "markdown",
   "metadata": {},
   "source": [
    "You can use OpenKMI to get an overview of all parameters where we have forecasts for"
   ]
  },
  {
   "cell_type": "code",
   "execution_count": 5,
   "metadata": {},
   "outputs": [
    {
     "name": "stdout",
     "output_type": "stream",
     "text": [
      "['10_m_u__wind_component', '10_m_v__wind_component', '2_m_Max_temp_since_ppp', '2_m_Min_temp_since_ppp', '2_m_dewpoint_temperature', '2_m_temperature', '2m_Relative_humidity', 'Convective_rain', 'Convective_snow', 'Geopotential', 'Inst_flx_Conv_Cld_Cover', 'Inst_flx_High_Cld_Cover', 'Inst_flx_Low_Cld_Cover', 'Inst_flx_Medium_Cld_Cover', 'Inst_flx_Tot_Cld_cover', 'Large_scale_rain', 'Large_scale_snow', 'Mean_sea_level_pressure', 'Relative_humidity', 'Relative_humidity_isobaric', 'SBL_Meridian_gust', 'SBL_Zonal_gust', 'Specific_humidity', 'Surf_Solar_radiation', 'Surf_Thermal_radiation', 'Surface_CAPE', 'Surface_Temperature', 'Surface_orography', 'Temperature', 'Total_precipitation', 'U-velocity', 'V-velocity', 'Vertical_velocity', 'Wet_Bulb_Poten_Temper', 'freezing_level_zeroDegC_isotherm']\n"
     ]
    }
   ],
   "source": [
    "parameters = kmi.get_parameters()\n",
    "print(parameters)"
   ]
  },
  {
   "cell_type": "markdown",
   "metadata": {},
   "source": [
    "For each layer we can request some more information using the abstract"
   ]
  },
  {
   "cell_type": "code",
   "execution_count": 6,
   "metadata": {},
   "outputs": [
    {
     "name": "stdout",
     "output_type": "stream",
     "text": [
      "2_m_temperature_height_above_ground\n"
     ]
    }
   ],
   "source": [
    "abstract = kmi.get_parameter_info('2_m_temperature')\n",
    "print(abstract)"
   ]
  },
  {
   "cell_type": "markdown",
   "metadata": {},
   "source": [
    "We can also check the bounding box within which we have data available for a certain layer"
   ]
  },
  {
   "cell_type": "code",
   "execution_count": 7,
   "metadata": {},
   "outputs": [
    {
     "name": "stdout",
     "output_type": "stream",
     "text": [
      "(-0.141525570620698, 47.37931567972357, 9.248525690604847, 53.640688592737376, 'CRS:84')\n"
     ]
    }
   ],
   "source": [
    "bbox = kmi.get_bbox('2_m_temperature')\n",
    "print(bbox)"
   ]
  },
  {
   "cell_type": "markdown",
   "metadata": {},
   "source": [
    "Finally we can request the timestamps for which we have data available. They are returned as a pandas index"
   ]
  },
  {
   "cell_type": "code",
   "execution_count": 8,
   "metadata": {},
   "outputs": [
    {
     "name": "stdout",
     "output_type": "stream",
     "text": [
      "DatetimeIndex(['2022-07-11 06:00:00+00:00', '2022-07-11 07:00:00+00:00',\n",
      "               '2022-07-11 08:00:00+00:00', '2022-07-11 09:00:00+00:00',\n",
      "               '2022-07-11 10:00:00+00:00', '2022-07-11 11:00:00+00:00',\n",
      "               '2022-07-11 12:00:00+00:00', '2022-07-11 13:00:00+00:00',\n",
      "               '2022-07-11 14:00:00+00:00', '2022-07-11 15:00:00+00:00',\n",
      "               '2022-07-11 16:00:00+00:00', '2022-07-11 17:00:00+00:00',\n",
      "               '2022-07-11 18:00:00+00:00', '2022-07-11 19:00:00+00:00',\n",
      "               '2022-07-11 20:00:00+00:00', '2022-07-11 21:00:00+00:00',\n",
      "               '2022-07-11 22:00:00+00:00', '2022-07-11 23:00:00+00:00',\n",
      "               '2022-07-12 00:00:00+00:00', '2022-07-12 01:00:00+00:00',\n",
      "               '2022-07-12 02:00:00+00:00', '2022-07-12 03:00:00+00:00',\n",
      "               '2022-07-12 04:00:00+00:00', '2022-07-12 05:00:00+00:00',\n",
      "               '2022-07-12 06:00:00+00:00', '2022-07-12 07:00:00+00:00',\n",
      "               '2022-07-12 08:00:00+00:00', '2022-07-12 09:00:00+00:00',\n",
      "               '2022-07-12 10:00:00+00:00', '2022-07-12 11:00:00+00:00',\n",
      "               '2022-07-12 12:00:00+00:00', '2022-07-12 13:00:00+00:00',\n",
      "               '2022-07-12 14:00:00+00:00', '2022-07-12 15:00:00+00:00',\n",
      "               '2022-07-12 16:00:00+00:00', '2022-07-12 17:00:00+00:00',\n",
      "               '2022-07-12 18:00:00+00:00', '2022-07-12 19:00:00+00:00',\n",
      "               '2022-07-12 20:00:00+00:00', '2022-07-12 21:00:00+00:00',\n",
      "               '2022-07-12 22:00:00+00:00', '2022-07-12 23:00:00+00:00',\n",
      "               '2022-07-13 00:00:00+00:00', '2022-07-13 01:00:00+00:00',\n",
      "               '2022-07-13 02:00:00+00:00', '2022-07-13 03:00:00+00:00',\n",
      "               '2022-07-13 04:00:00+00:00', '2022-07-13 05:00:00+00:00',\n",
      "               '2022-07-13 06:00:00+00:00', '2022-07-13 07:00:00+00:00',\n",
      "               '2022-07-13 08:00:00+00:00', '2022-07-13 09:00:00+00:00',\n",
      "               '2022-07-13 10:00:00+00:00', '2022-07-13 11:00:00+00:00',\n",
      "               '2022-07-13 12:00:00+00:00', '2022-07-13 13:00:00+00:00',\n",
      "               '2022-07-13 14:00:00+00:00', '2022-07-13 15:00:00+00:00',\n",
      "               '2022-07-13 16:00:00+00:00', '2022-07-13 17:00:00+00:00',\n",
      "               '2022-07-13 18:00:00+00:00'],\n",
      "              dtype='datetime64[ns, UTC]', freq='H')\n"
     ]
    }
   ],
   "source": [
    "idx = kmi.get_times('2_m_temperature')\n",
    "print(idx)"
   ]
  },
  {
   "cell_type": "markdown",
   "metadata": {},
   "source": [
    "# Download data\n",
    "\n",
    "Using this package you can download the data for one location. The data is returned as a pandas dataframe.\n",
    "For downloading the data you need to provide at least the layer name and x/y coordinates. Optionally you can also provide the EPSG code of the x/y coordinates for which you request the data. By default WGS84 (EPSG:4326) is assumed but any other EPSG number can be provided.\n",
    "\n",
    "## Example: Request forecast for temperature"
   ]
  },
  {
   "cell_type": "code",
   "execution_count": 9,
   "metadata": {},
   "outputs": [],
   "source": [
    "df = kmi.get_data('2_m_temperature', 4.6824, 52.3617)\n",
    "# Same coordinates but in Lambert72\n",
    "df_lamb = kmi.get_data('2_m_temperature', 169955, 338336, epsg='31370')"
   ]
  },
  {
   "cell_type": "code",
   "execution_count": 10,
   "metadata": {},
   "outputs": [
    {
     "data": {
      "text/html": [
       "<div>\n",
       "<style scoped>\n",
       "    .dataframe tbody tr th:only-of-type {\n",
       "        vertical-align: middle;\n",
       "    }\n",
       "\n",
       "    .dataframe tbody tr th {\n",
       "        vertical-align: top;\n",
       "    }\n",
       "\n",
       "    .dataframe thead th {\n",
       "        text-align: right;\n",
       "    }\n",
       "</style>\n",
       "<table border=\"1\" class=\"dataframe\">\n",
       "  <thead>\n",
       "    <tr style=\"text-align: right;\">\n",
       "      <th></th>\n",
       "      <th>2_m_temperature</th>\n",
       "    </tr>\n",
       "  </thead>\n",
       "  <tbody>\n",
       "    <tr>\n",
       "      <th>2022-07-11 06:00:00+00:00</th>\n",
       "      <td>287.54</td>\n",
       "    </tr>\n",
       "    <tr>\n",
       "      <th>2022-07-11 07:00:00+00:00</th>\n",
       "      <td>288.564</td>\n",
       "    </tr>\n",
       "    <tr>\n",
       "      <th>2022-07-11 08:00:00+00:00</th>\n",
       "      <td>289.863</td>\n",
       "    </tr>\n",
       "    <tr>\n",
       "      <th>2022-07-11 09:00:00+00:00</th>\n",
       "      <td>291.208</td>\n",
       "    </tr>\n",
       "    <tr>\n",
       "      <th>2022-07-11 10:00:00+00:00</th>\n",
       "      <td>292.407</td>\n",
       "    </tr>\n",
       "  </tbody>\n",
       "</table>\n",
       "</div>"
      ],
      "text/plain": [
       "                          2_m_temperature\n",
       "2022-07-11 06:00:00+00:00          287.54\n",
       "2022-07-11 07:00:00+00:00         288.564\n",
       "2022-07-11 08:00:00+00:00         289.863\n",
       "2022-07-11 09:00:00+00:00         291.208\n",
       "2022-07-11 10:00:00+00:00         292.407"
      ]
     },
     "execution_count": 10,
     "metadata": {},
     "output_type": "execute_result"
    }
   ],
   "source": [
    "df.head()"
   ]
  },
  {
   "cell_type": "code",
   "execution_count": 11,
   "metadata": {},
   "outputs": [],
   "source": [
    "# Data is in Kelvin so we convert to C\n",
    "df = df - 272.15\n",
    "df_lamb = df_lamb - 272.15"
   ]
  },
  {
   "cell_type": "code",
   "execution_count": 12,
   "metadata": {},
   "outputs": [
    {
     "data": {
      "image/png": "[encoded data removed]",
      "text/plain": [
       "<Figure size 1080x360 with 1 Axes>"
      ]
     },
     "metadata": {
      "needs_background": "light"
     },
     "output_type": "display_data"
    }
   ],
   "source": [
    "fix, ax = plt.subplots(figsize=(15,5))\n",
    "df.plot(ax=ax)\n",
    "df_lamb.plot(ax=ax)\n",
    "ax.grid()"
   ]
  },
  {
   "cell_type": "markdown",
   "metadata": {},
   "source": [
    "## Example: Compare measurements and \n",
    "\n",
    "We can also use the package to compare measurements from AWS with the model forecasts.\n",
    "\n",
    "First we use the package to check the stations and parameters for which we have data available"
   ]
  },
  {
   "cell_type": "code",
   "execution_count": 13,
   "metadata": {},
   "outputs": [],
   "source": [
    "aws = AWS()"
   ]
  },
  {
   "cell_type": "code",
   "execution_count": 14,
   "metadata": {},
   "outputs": [
    {
     "data": {
      "text/html": [
       "<div>\n",
       "<style scoped>\n",
       "    .dataframe tbody tr th:only-of-type {\n",
       "        vertical-align: middle;\n",
       "    }\n",
       "\n",
       "    .dataframe tbody tr th {\n",
       "        vertical-align: top;\n",
       "    }\n",
       "\n",
       "    .dataframe thead th {\n",
       "        text-align: right;\n",
       "    }\n",
       "</style>\n",
       "<table border=\"1\" class=\"dataframe\">\n",
       "  <thead>\n",
       "    <tr style=\"text-align: right;\">\n",
       "      <th></th>\n",
       "      <th>code</th>\n",
       "      <th>the_geom</th>\n",
       "      <th>altitude</th>\n",
       "      <th>name</th>\n",
       "      <th>date_begin</th>\n",
       "      <th>date_end</th>\n",
       "    </tr>\n",
       "  </thead>\n",
       "  <tbody>\n",
       "    <tr>\n",
       "      <th>5</th>\n",
       "      <td>6472</td>\n",
       "      <td>POINT (50.193663 5.255236)</td>\n",
       "      <td>295.3</td>\n",
       "      <td>HUMAIN</td>\n",
       "      <td>2017-11-18T00:00:00</td>\n",
       "      <td>NaN</td>\n",
       "    </tr>\n",
       "    <tr>\n",
       "      <th>11</th>\n",
       "      <td>6418</td>\n",
       "      <td>POINT (51.347375 3.201846)</td>\n",
       "      <td>12.1</td>\n",
       "      <td>ZEEBRUGGE</td>\n",
       "      <td>2017-11-18T00:00:00</td>\n",
       "      <td>NaN</td>\n",
       "    </tr>\n",
       "  </tbody>\n",
       "</table>\n",
       "</div>"
      ],
      "text/plain": [
       "    code                    the_geom  altitude       name  \\\n",
       "5   6472  POINT (50.193663 5.255236)     295.3     HUMAIN   \n",
       "11  6418  POINT (51.347375 3.201846)      12.1  ZEEBRUGGE   \n",
       "\n",
       "             date_begin date_end  \n",
       "5   2017-11-18T00:00:00      NaN  \n",
       "11  2017-11-18T00:00:00      NaN  "
      ]
     },
     "execution_count": 14,
     "metadata": {},
     "output_type": "execute_result"
    }
   ],
   "source": [
    "stations = aws.get_stations()\n",
    "stations"
   ]
  },
  {
   "cell_type": "code",
   "execution_count": 15,
   "metadata": {},
   "outputs": [
    {
     "data": {
      "text/plain": [
       "{'code': 'int',\n",
       " 'timestamp': 'dateTime',\n",
       " 'air_pressure': 'decimal',\n",
       " 'air_temperature': 'decimal',\n",
       " 'relative_humidity': 'decimal',\n",
       " 'precipitation': 'decimal',\n",
       " 'wind_speed': 'decimal',\n",
       " 'qc_flags': 'string'}"
      ]
     },
     "execution_count": 15,
     "metadata": {},
     "output_type": "execute_result"
    }
   ],
   "source": [
    "aws.get_parameters()"
   ]
  },
  {
   "cell_type": "markdown",
   "metadata": {},
   "source": [
    "Next fetch the measurement and forecast data for Humain for one of the parameters (e.g. relative humidity)"
   ]
  },
  {
   "cell_type": "code",
   "execution_count": 16,
   "metadata": {},
   "outputs": [],
   "source": [
    "df_meas = aws.get_data('6472', start_date=(datetime.now() - timedelta(hours=24)).isoformat(), parameter_list=['air_temperature'])"
   ]
  },
  {
   "cell_type": "code",
   "execution_count": 17,
   "metadata": {},
   "outputs": [],
   "source": [
    "df_fc = kmi.get_data('2_m_temperature', 5.255236, 50.193663 )"
   ]
  },
  {
   "cell_type": "code",
   "execution_count": 20,
   "metadata": {},
   "outputs": [
    {
     "data": {
      "text/plain": [
       "Text(0, 0.5, 'Temperatuur [C]')"
      ]
     },
     "execution_count": 20,
     "metadata": {},
     "output_type": "execute_result"
    },
    {
     "data": {
      "image/png": "[encoded data removed]",
      "text/plain": [
       "<Figure size 1080x360 with 1 Axes>"
      ]
     },
     "metadata": {
      "needs_background": "light"
     },
     "output_type": "display_data"
    }
   ],
   "source": [
    "fix, ax = plt.subplots(figsize=(15,5))\n",
    "df_meas.plot(ax=ax)\n",
    "(df_fc - 272.15).plot(ax=ax)\n",
    "ax.legend(['Meting (AWS)', 'Voorspelling (Alaro)'])\n",
    "ax.grid()\n",
    "ax.set_ylabel('Temperatuur [C]')"
   ]
  }
 ],
 "metadata": {
  "kernelspec": {
   "display_name": "haidro",
   "language": "python",
   "name": "haidro"
  },
  "language_info": {
   "codemirror_mode": {
    "name": "ipython",
    "version": 3
   },
   "file_extension": ".py",
   "mimetype": "text/x-python",
   "name": "python",
   "nbconvert_exporter": "python",
   "pygments_lexer": "ipython3",
   "version": "3.8.5"
  }
 },
 "nbformat": 4,
 "nbformat_minor": 4
}
