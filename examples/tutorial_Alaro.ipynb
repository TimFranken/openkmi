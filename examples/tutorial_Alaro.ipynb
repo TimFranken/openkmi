{
 "cells": [
  {
   "cell_type": "markdown",
   "metadata": {},
   "source": [
    "# Introduction\n",
    "\n",
    "This notebook introduces the OpenKMI package. OpenKMI serves as a wrapper around the WFS and WMS service that KMI offers to download synoptic measurements, data from the automatic weather stations and ALARO forecasts.\n",
    "\n",
    "This notebook focuses on the Alaro forecasts.\n",
    "\n",
    "https://opendata.meteo.be/geonetwork/srv/eng/catalog.search;jsessionid=1A4FC7644B7C0B8D17287BA7A9A21278#/metadata/RMI_DATASET_ALARO\n"
   ]
  },
  {
   "cell_type": "markdown",
   "metadata": {},
   "source": [
    "# Initialize the package"
   ]
  },
  {
   "cell_type": "markdown",
   "metadata": {},
   "source": [
    "First load the modules we will use"
   ]
  },
  {
   "cell_type": "code",
   "execution_count": 26,
   "metadata": {},
   "outputs": [],
   "source": [
    "import os\n",
    "import sys\n",
    "import matplotlib.pyplot as plt\n",
    "import pandas as pd   \n",
    "from openkmi.grid_data import Alaro\n",
    "from openkmi.point_obs import AWS\n",
    "from datetime import datetime, timedelta"
   ]
  },
  {
   "cell_type": "markdown",
   "metadata": {},
   "source": [
    "Then initialize the package. "
   ]
  },
  {
   "cell_type": "code",
   "execution_count": 2,
   "metadata": {},
   "outputs": [],
   "source": [
    "kmi = Alaro()"
   ]
  },
  {
   "cell_type": "markdown",
   "metadata": {},
   "source": [
    "# Inspect the available data"
   ]
  },
  {
   "cell_type": "markdown",
   "metadata": {},
   "source": [
    "You can use OpenKMI to get an overview of all layers (parameters) where we have forecasts for"
   ]
  },
  {
   "cell_type": "code",
   "execution_count": 3,
   "metadata": {},
   "outputs": [
    {
     "name": "stdout",
     "output_type": "stream",
     "text": [
      "['10_m_u__wind_component', '10_m_v__wind_component', '2_m_Max_temp_since_ppp', '2_m_Min_temp_since_ppp', '2_m_dewpoint_temperature', '2_m_temperature', '2m_Relative_humidity', 'Convective_rain', 'Convective_snow', 'Geopotential', 'Inst_flx_Conv_Cld_Cover', 'Inst_flx_High_Cld_Cover', 'Inst_flx_Low_Cld_Cover', 'Inst_flx_Medium_Cld_Cover', 'Inst_flx_Tot_Cld_cover', 'Large_scale_rain', 'Large_scale_snow', 'Mean_sea_level_pressure', 'Relative_humidity', 'Relative_humidity_isobaric', 'SBL_Meridian_gust', 'SBL_Zonal_gust', 'Specific_humidity', 'Surf_Solar_radiation', 'Surf_Thermal_radiation', 'Surface_CAPE', 'Surface_Temperature', 'Surface_orography', 'Temperature', 'Total_precipitation', 'U-velocity', 'V-velocity', 'Vertical_velocity', 'Wet_Bulb_Poten_Temper', 'freezing_level_zeroDegC_isotherm']\n"
     ]
    }
   ],
   "source": [
    "layers = kmi.get_layers()\n",
    "print(layers)"
   ]
  },
  {
   "cell_type": "markdown",
   "metadata": {},
   "source": [
    "For each layer we can request some more information using the abstract"
   ]
  },
  {
   "cell_type": "code",
   "execution_count": 4,
   "metadata": {},
   "outputs": [
    {
     "name": "stdout",
     "output_type": "stream",
     "text": [
      "2_m_temperature_height_above_ground\n"
     ]
    }
   ],
   "source": [
    "abstract = kmi.get_layer_abstract('2_m_temperature')\n",
    "print(abstract)"
   ]
  },
  {
   "cell_type": "markdown",
   "metadata": {},
   "source": [
    "We can also check the bounding box within which we have data available for a certain layer"
   ]
  },
  {
   "cell_type": "code",
   "execution_count": 5,
   "metadata": {},
   "outputs": [
    {
     "name": "stdout",
     "output_type": "stream",
     "text": [
      "(-0.141525570620698, 47.37931567972357, 9.248525690604847, 53.640688592737376, 'CRS:84')\n"
     ]
    }
   ],
   "source": [
    "bbox = kmi.get_layer_bbox('2_m_temperature')\n",
    "print(bbox)"
   ]
  },
  {
   "cell_type": "markdown",
   "metadata": {},
   "source": [
    "Finally we can request the timestamps for which we have data available. They are returned as a pandas index"
   ]
  },
  {
   "cell_type": "code",
   "execution_count": 7,
   "metadata": {},
   "outputs": [
    {
     "name": "stdout",
     "output_type": "stream",
     "text": [
      "DatetimeIndex(['2022-04-22 00:00:00+00:00', '2022-04-22 01:00:00+00:00',\n",
      "               '2022-04-22 02:00:00+00:00', '2022-04-22 03:00:00+00:00',\n",
      "               '2022-04-22 04:00:00+00:00', '2022-04-22 05:00:00+00:00',\n",
      "               '2022-04-22 06:00:00+00:00', '2022-04-22 07:00:00+00:00',\n",
      "               '2022-04-22 08:00:00+00:00', '2022-04-22 09:00:00+00:00',\n",
      "               '2022-04-22 10:00:00+00:00', '2022-04-22 11:00:00+00:00',\n",
      "               '2022-04-22 12:00:00+00:00', '2022-04-22 13:00:00+00:00',\n",
      "               '2022-04-22 14:00:00+00:00', '2022-04-22 15:00:00+00:00',\n",
      "               '2022-04-22 16:00:00+00:00', '2022-04-22 17:00:00+00:00',\n",
      "               '2022-04-22 18:00:00+00:00', '2022-04-22 19:00:00+00:00',\n",
      "               '2022-04-22 20:00:00+00:00', '2022-04-22 21:00:00+00:00',\n",
      "               '2022-04-22 22:00:00+00:00', '2022-04-22 23:00:00+00:00',\n",
      "               '2022-04-23 00:00:00+00:00', '2022-04-23 01:00:00+00:00',\n",
      "               '2022-04-23 02:00:00+00:00', '2022-04-23 03:00:00+00:00',\n",
      "               '2022-04-23 04:00:00+00:00', '2022-04-23 05:00:00+00:00',\n",
      "               '2022-04-23 06:00:00+00:00', '2022-04-23 07:00:00+00:00',\n",
      "               '2022-04-23 08:00:00+00:00', '2022-04-23 09:00:00+00:00',\n",
      "               '2022-04-23 10:00:00+00:00', '2022-04-23 11:00:00+00:00',\n",
      "               '2022-04-23 12:00:00+00:00', '2022-04-23 13:00:00+00:00',\n",
      "               '2022-04-23 14:00:00+00:00', '2022-04-23 15:00:00+00:00',\n",
      "               '2022-04-23 16:00:00+00:00', '2022-04-23 17:00:00+00:00',\n",
      "               '2022-04-23 18:00:00+00:00', '2022-04-23 19:00:00+00:00',\n",
      "               '2022-04-23 20:00:00+00:00', '2022-04-23 21:00:00+00:00',\n",
      "               '2022-04-23 22:00:00+00:00', '2022-04-23 23:00:00+00:00',\n",
      "               '2022-04-24 00:00:00+00:00', '2022-04-24 01:00:00+00:00',\n",
      "               '2022-04-24 02:00:00+00:00', '2022-04-24 03:00:00+00:00',\n",
      "               '2022-04-24 04:00:00+00:00', '2022-04-24 05:00:00+00:00',\n",
      "               '2022-04-24 06:00:00+00:00', '2022-04-24 07:00:00+00:00',\n",
      "               '2022-04-24 08:00:00+00:00', '2022-04-24 09:00:00+00:00',\n",
      "               '2022-04-24 10:00:00+00:00', '2022-04-24 11:00:00+00:00',\n",
      "               '2022-04-24 12:00:00+00:00'],\n",
      "              dtype='datetime64[ns, UTC]', freq='H')\n"
     ]
    }
   ],
   "source": [
    "idx = kmi.get_layer_times('2_m_temperature')\n",
    "print(idx)"
   ]
  },
  {
   "cell_type": "markdown",
   "metadata": {},
   "source": [
    "# Download data\n",
    "\n",
    "Using this package you can download the data for one location. The data is returned as a pandas dataframe.\n",
    "For downloading the data you need to provide at least the layer name and x/y coordinates. Optionally you can also provide the EPSG code of the x/y coordinates for which you request the data. By default WGS84 (EPSG:4326) is assumed but any other EPSG number can be provided.\n",
    "\n",
    "## Example: Request forecast for temperature"
   ]
  },
  {
   "cell_type": "code",
   "execution_count": 17,
   "metadata": {},
   "outputs": [],
   "source": [
    "df = kmi.get_data('2_m_temperature', 4.6824, 52.3617)\n",
    "# Same coordinates but in Lambert72\n",
    "df_lamb = kmi.get_data('2_m_temperature', 169955, 338336, epsg='31370')"
   ]
  },
  {
   "cell_type": "code",
   "execution_count": 18,
   "metadata": {},
   "outputs": [
    {
     "data": {
      "text/html": [
       "<div>\n",
       "<style scoped>\n",
       "    .dataframe tbody tr th:only-of-type {\n",
       "        vertical-align: middle;\n",
       "    }\n",
       "\n",
       "    .dataframe tbody tr th {\n",
       "        vertical-align: top;\n",
       "    }\n",
       "\n",
       "    .dataframe thead th {\n",
       "        text-align: right;\n",
       "    }\n",
       "</style>\n",
       "<table border=\"1\" class=\"dataframe\">\n",
       "  <thead>\n",
       "    <tr style=\"text-align: right;\">\n",
       "      <th></th>\n",
       "      <th>2_m_temperature</th>\n",
       "    </tr>\n",
       "  </thead>\n",
       "  <tbody>\n",
       "    <tr>\n",
       "      <th>2022-04-22 00:00:00+00:00</th>\n",
       "      <td>280.929</td>\n",
       "    </tr>\n",
       "    <tr>\n",
       "      <th>2022-04-22 01:00:00+00:00</th>\n",
       "      <td>280.708</td>\n",
       "    </tr>\n",
       "    <tr>\n",
       "      <th>2022-04-22 02:00:00+00:00</th>\n",
       "      <td>280.459</td>\n",
       "    </tr>\n",
       "    <tr>\n",
       "      <th>2022-04-22 03:00:00+00:00</th>\n",
       "      <td>280.287</td>\n",
       "    </tr>\n",
       "    <tr>\n",
       "      <th>2022-04-22 04:00:00+00:00</th>\n",
       "      <td>280.048</td>\n",
       "    </tr>\n",
       "  </tbody>\n",
       "</table>\n",
       "</div>"
      ],
      "text/plain": [
       "                          2_m_temperature\n",
       "2022-04-22 00:00:00+00:00         280.929\n",
       "2022-04-22 01:00:00+00:00         280.708\n",
       "2022-04-22 02:00:00+00:00         280.459\n",
       "2022-04-22 03:00:00+00:00         280.287\n",
       "2022-04-22 04:00:00+00:00         280.048"
      ]
     },
     "execution_count": 18,
     "metadata": {},
     "output_type": "execute_result"
    }
   ],
   "source": [
    "df.head()"
   ]
  },
  {
   "cell_type": "code",
   "execution_count": 20,
   "metadata": {},
   "outputs": [],
   "source": [
    "# Data is in Kelvin so we convert to C\n",
    "df = df - 272.15 \n",
    "df_lamb = df_lamb - 272.15 "
   ]
  },
  {
   "cell_type": "code",
   "execution_count": 21,
   "metadata": {},
   "outputs": [
    {
     "data": {
      "image/png": "[encoded data removed]",
      "text/plain": [
       "<Figure size 1080x360 with 1 Axes>"
      ]
     },
     "metadata": {
      "needs_background": "light"
     },
     "output_type": "display_data"
    }
   ],
   "source": [
    "fix, ax = plt.subplots(figsize=(15,5))\n",
    "df.plot(ax=ax)\n",
    "df_lamb.plot(ax=ax)\n",
    "ax.grid()"
   ]
  },
  {
   "cell_type": "markdown",
   "metadata": {},
   "source": [
    "## Example: Compare measurements and \n",
    "\n",
    "We can also use the package to compare measurements from AWS with the model forecasts.\n",
    "\n",
    "First we use the package to check the stations and parameters for which we have data available"
   ]
  },
  {
   "cell_type": "code",
   "execution_count": 23,
   "metadata": {},
   "outputs": [],
   "source": [
    "aws = AWS()"
   ]
  },
  {
   "cell_type": "code",
   "execution_count": 24,
   "metadata": {},
   "outputs": [
    {
     "data": {
      "text/html": [
       "<div>\n",
       "<style scoped>\n",
       "    .dataframe tbody tr th:only-of-type {\n",
       "        vertical-align: middle;\n",
       "    }\n",
       "\n",
       "    .dataframe tbody tr th {\n",
       "        vertical-align: top;\n",
       "    }\n",
       "\n",
       "    .dataframe thead th {\n",
       "        text-align: right;\n",
       "    }\n",
       "</style>\n",
       "<table border=\"1\" class=\"dataframe\">\n",
       "  <thead>\n",
       "    <tr style=\"text-align: right;\">\n",
       "      <th></th>\n",
       "      <th>code</th>\n",
       "      <th>the_geom</th>\n",
       "      <th>altitude</th>\n",
       "      <th>name</th>\n",
       "      <th>date_begin</th>\n",
       "      <th>date_end</th>\n",
       "    </tr>\n",
       "  </thead>\n",
       "  <tbody>\n",
       "    <tr>\n",
       "      <th>3</th>\n",
       "      <td>6418</td>\n",
       "      <td>POINT (51.347375 3.201846)</td>\n",
       "      <td>12.1</td>\n",
       "      <td>ZEEBRUGGE</td>\n",
       "      <td>2017-11-18T00:00:00</td>\n",
       "      <td>NaN</td>\n",
       "    </tr>\n",
       "    <tr>\n",
       "      <th>19</th>\n",
       "      <td>6472</td>\n",
       "      <td>POINT (50.193663 5.255236)</td>\n",
       "      <td>295.3</td>\n",
       "      <td>HUMAIN</td>\n",
       "      <td>2017-11-18T00:00:00</td>\n",
       "      <td>NaN</td>\n",
       "    </tr>\n",
       "  </tbody>\n",
       "</table>\n",
       "</div>"
      ],
      "text/plain": [
       "    code                    the_geom  altitude       name  \\\n",
       "3   6418  POINT (51.347375 3.201846)      12.1  ZEEBRUGGE   \n",
       "19  6472  POINT (50.193663 5.255236)     295.3     HUMAIN   \n",
       "\n",
       "             date_begin date_end  \n",
       "3   2017-11-18T00:00:00      NaN  \n",
       "19  2017-11-18T00:00:00      NaN  "
      ]
     },
     "execution_count": 24,
     "metadata": {},
     "output_type": "execute_result"
    }
   ],
   "source": [
    "stations = aws.get_stations()\n",
    "stations"
   ]
  },
  {
   "cell_type": "code",
   "execution_count": 25,
   "metadata": {},
   "outputs": [
    {
     "data": {
      "text/plain": [
       "{'code': 'int',\n",
       " 'timestamp': 'dateTime',\n",
       " 'air_pressure': 'decimal',\n",
       " 'air_temperature': 'decimal',\n",
       " 'relative_humidity': 'decimal',\n",
       " 'precipitation': 'decimal',\n",
       " 'wind_speed': 'decimal',\n",
       " 'qc_flags': 'string'}"
      ]
     },
     "execution_count": 25,
     "metadata": {},
     "output_type": "execute_result"
    }
   ],
   "source": [
    "aws.get_parameters()"
   ]
  },
  {
   "cell_type": "markdown",
   "metadata": {},
   "source": [
    "Next fetch the measurement and forecast data for Humain for one of the parameters (e.g. relative humidity)"
   ]
  },
  {
   "cell_type": "code",
   "execution_count": 42,
   "metadata": {},
   "outputs": [],
   "source": [
    "df_meas = aws.get_data('6472', start_date=(datetime.now() - timedelta(hours=24)).isoformat(), parameter_list=['relative_humidity'])"
   ]
  },
  {
   "cell_type": "code",
   "execution_count": 41,
   "metadata": {},
   "outputs": [],
   "source": [
    "df_fc = kmi.get_data('Relative_humidity', 5.255236, 50.193663 )"
   ]
  },
  {
   "cell_type": "code",
   "execution_count": 44,
   "metadata": {},
   "outputs": [
    {
     "data": {
      "image/png": "[encoded data removed]",
      "text/plain": [
       "<Figure size 1080x360 with 1 Axes>"
      ]
     },
     "metadata": {
      "needs_background": "light"
     },
     "output_type": "display_data"
    }
   ],
   "source": [
    "fix, ax = plt.subplots(figsize=(15,5))\n",
    "df_meas.plot(ax=ax)\n",
    "df_fc.plot(ax=ax)\n",
    "ax.legend(['Meting (AWS)', 'Voorspelling (Alaro)'])\n",
    "ax.grid()"
   ]
  }
 ],
 "metadata": {
  "kernelspec": {
   "display_name": "haidro",
   "language": "python",
   "name": "haidro"
  },
  "language_info": {
   "codemirror_mode": {
    "name": "ipython",
    "version": 3
   },
   "file_extension": ".py",
   "mimetype": "text/x-python",
   "name": "python",
   "nbconvert_exporter": "python",
   "pygments_lexer": "ipython3",
   "version": "3.8.5"
  }
 },
 "nbformat": 4,
 "nbformat_minor": 4
}
