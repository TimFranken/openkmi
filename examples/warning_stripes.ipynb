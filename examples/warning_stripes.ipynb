{
 "cells": [
  {
   "cell_type": "markdown",
   "metadata": {},
   "source": [
    "# Introduction\n",
    "\n",
    "\n",
    "This notebook uses the OpenKMI package to generate the [climate warning stripes](https://showyourstripes.info/s/globe) based on the synoptic data from RMI. \n",
    "\n",
    "OpenKMI serves as a wrapper around the WFS service that KMI offers to download both synoptic measurements and data from the automatic weather stations.\n"
   ]
  },
  {
   "cell_type": "markdown",
   "metadata": {},
   "source": [
    "# Initialize the package"
   ]
  },
  {
   "cell_type": "markdown",
   "metadata": {},
   "source": [
    "First load the modules we will use"
   ]
  },
  {
   "cell_type": "code",
   "execution_count": 1,
   "metadata": {},
   "outputs": [],
   "source": [
    "import matplotlib.pyplot as plt\n",
    "import pandas as pd   \n",
    "from openkmi.point_obs import Synop\n",
    "\n",
    "from matplotlib.patches import Rectangle\n",
    "from matplotlib.collections import PatchCollection\n",
    "from matplotlib.colors import ListedColormap\n",
    "\n",
    "plt.rcParams['font.family'] = 'Monospace'"
   ]
  },
  {
   "cell_type": "markdown",
   "metadata": {},
   "source": [
    "Then initialize the package"
   ]
  },
  {
   "cell_type": "code",
   "execution_count": 2,
   "metadata": {},
   "outputs": [],
   "source": [
    "kmi = Synop()"
   ]
  },
  {
   "cell_type": "markdown",
   "metadata": {},
   "source": [
    "# Inspect the available stations"
   ]
  },
  {
   "cell_type": "markdown",
   "metadata": {},
   "source": [
    "You can use OpenKMI to get an overview of all stations where you can collect the data for"
   ]
  },
  {
   "cell_type": "code",
   "execution_count": 3,
   "metadata": {},
   "outputs": [
    {
     "name": "stdout",
     "output_type": "stream",
     "text": [
      "There are 22 stations available\n"
     ]
    }
   ],
   "source": [
    "df_stations = kmi.get_stations()\n",
    "print(f'There are {df_stations.shape[0]} stations available')"
   ]
  },
  {
   "cell_type": "code",
   "execution_count": 4,
   "metadata": {},
   "outputs": [
    {
     "data": {
      "text/html": [
       "<div>\n",
       "<style scoped>\n",
       "    .dataframe tbody tr th:only-of-type {\n",
       "        vertical-align: middle;\n",
       "    }\n",
       "\n",
       "    .dataframe tbody tr th {\n",
       "        vertical-align: top;\n",
       "    }\n",
       "\n",
       "    .dataframe thead th {\n",
       "        text-align: right;\n",
       "    }\n",
       "</style>\n",
       "<table border=\"1\" class=\"dataframe\">\n",
       "  <thead>\n",
       "    <tr style=\"text-align: right;\">\n",
       "      <th></th>\n",
       "      <th>code</th>\n",
       "      <th>the_geom</th>\n",
       "      <th>altitude</th>\n",
       "      <th>name</th>\n",
       "      <th>date_begin</th>\n",
       "      <th>date_end</th>\n",
       "    </tr>\n",
       "  </thead>\n",
       "  <tbody>\n",
       "    <tr>\n",
       "      <th>0</th>\n",
       "      <td>6490</td>\n",
       "      <td>POINT (50.478615 5.909864)</td>\n",
       "      <td>482.0</td>\n",
       "      <td>SPA (AERODROME)</td>\n",
       "      <td>1952-01-01T00:00:00</td>\n",
       "      <td>NaN</td>\n",
       "    </tr>\n",
       "    <tr>\n",
       "      <th>1</th>\n",
       "      <td>6476</td>\n",
       "      <td>POINT (50.038875 5.403753)</td>\n",
       "      <td>557.0</td>\n",
       "      <td>SAINT-HUBERT</td>\n",
       "      <td>1952-01-01T00:00:00</td>\n",
       "      <td>NaN</td>\n",
       "    </tr>\n",
       "    <tr>\n",
       "      <th>2</th>\n",
       "      <td>6414</td>\n",
       "      <td>POINT (50.90398 3.121692)</td>\n",
       "      <td>24.8</td>\n",
       "      <td>BEITEM</td>\n",
       "      <td>2003-08-01T07:00:00</td>\n",
       "      <td>NaN</td>\n",
       "    </tr>\n",
       "    <tr>\n",
       "      <th>3</th>\n",
       "      <td>6418</td>\n",
       "      <td>POINT (51.347375 3.201846)</td>\n",
       "      <td>12.1</td>\n",
       "      <td>ZEEBRUGGE</td>\n",
       "      <td>2005-12-01T00:00:00</td>\n",
       "      <td>NaN</td>\n",
       "    </tr>\n",
       "    <tr>\n",
       "      <th>4</th>\n",
       "      <td>6438</td>\n",
       "      <td>POINT (51.324802 4.363798)</td>\n",
       "      <td>4.0</td>\n",
       "      <td>STABROEK</td>\n",
       "      <td>2012-08-05T00:00:00</td>\n",
       "      <td>NaN</td>\n",
       "    </tr>\n",
       "    <tr>\n",
       "      <th>5</th>\n",
       "      <td>6446</td>\n",
       "      <td>POINT (50.796862 4.357871)</td>\n",
       "      <td>100.6</td>\n",
       "      <td>UCCLE-UKKEL</td>\n",
       "      <td>2001-08-23T00:00:00</td>\n",
       "      <td>2003-12-09T08:00:00</td>\n",
       "    </tr>\n",
       "    <tr>\n",
       "      <th>6</th>\n",
       "      <td>6447</td>\n",
       "      <td>POINT (50.796862 4.357871)</td>\n",
       "      <td>100.6</td>\n",
       "      <td>UCCLE-UKKEL</td>\n",
       "      <td>2003-12-01T00:00:00</td>\n",
       "      <td>NaN</td>\n",
       "    </tr>\n",
       "    <tr>\n",
       "      <th>7</th>\n",
       "      <td>6477</td>\n",
       "      <td>POINT (50.915458 5.450296)</td>\n",
       "      <td>39.3</td>\n",
       "      <td>DIEPENBEEK</td>\n",
       "      <td>2004-06-29T00:00:00</td>\n",
       "      <td>NaN</td>\n",
       "    </tr>\n",
       "    <tr>\n",
       "      <th>8</th>\n",
       "      <td>6478</td>\n",
       "      <td>POINT (50.645282 5.458738)</td>\n",
       "      <td>178.0</td>\n",
       "      <td>BIERSET</td>\n",
       "      <td>1952-01-01T00:00:00</td>\n",
       "      <td>NaN</td>\n",
       "    </tr>\n",
       "    <tr>\n",
       "      <th>9</th>\n",
       "      <td>6439</td>\n",
       "      <td>POINT (51.075125 4.524608)</td>\n",
       "      <td>8.3</td>\n",
       "      <td>SINT-KATELIJNE-WAVER</td>\n",
       "      <td>2007-10-22T00:00:00</td>\n",
       "      <td>NaN</td>\n",
       "    </tr>\n",
       "    <tr>\n",
       "      <th>10</th>\n",
       "      <td>6407</td>\n",
       "      <td>POINT (51.200341 2.887306)</td>\n",
       "      <td>3.5</td>\n",
       "      <td>MIDDELKERKE</td>\n",
       "      <td>1955-01-01T00:00:00</td>\n",
       "      <td>NaN</td>\n",
       "    </tr>\n",
       "    <tr>\n",
       "      <th>11</th>\n",
       "      <td>6434</td>\n",
       "      <td>POINT (50.980293 3.816003)</td>\n",
       "      <td>15.0</td>\n",
       "      <td>MELLE</td>\n",
       "      <td>2003-04-02T06:00:00</td>\n",
       "      <td>NaN</td>\n",
       "    </tr>\n",
       "    <tr>\n",
       "      <th>12</th>\n",
       "      <td>6447</td>\n",
       "      <td>POINT (50.796664 4.357875)</td>\n",
       "      <td>100.0</td>\n",
       "      <td>UCCLE-UKKEL (FERME)</td>\n",
       "      <td>1952-01-01T00:00:00</td>\n",
       "      <td>2003-11-30T23:00:00</td>\n",
       "    </tr>\n",
       "    <tr>\n",
       "      <th>13</th>\n",
       "      <td>6455</td>\n",
       "      <td>POINT (50.095445 4.59459)</td>\n",
       "      <td>234.8</td>\n",
       "      <td>DOURBES</td>\n",
       "      <td>2000-02-08T03:00:00</td>\n",
       "      <td>NaN</td>\n",
       "    </tr>\n",
       "    <tr>\n",
       "      <th>14</th>\n",
       "      <td>6459</td>\n",
       "      <td>POINT (50.581913 4.689214)</td>\n",
       "      <td>159.2</td>\n",
       "      <td>ERNAGE</td>\n",
       "      <td>2002-05-22T00:00:00</td>\n",
       "      <td>NaN</td>\n",
       "    </tr>\n",
       "    <tr>\n",
       "      <th>15</th>\n",
       "      <td>6451</td>\n",
       "      <td>POINT (50.896391 4.526765)</td>\n",
       "      <td>58.0</td>\n",
       "      <td>ZAVENTEM/MELSBROEK</td>\n",
       "      <td>1952-01-01T00:00:00</td>\n",
       "      <td>NaN</td>\n",
       "    </tr>\n",
       "    <tr>\n",
       "      <th>16</th>\n",
       "      <td>6449</td>\n",
       "      <td>POINT (50.454432 4.442053)</td>\n",
       "      <td>192.0</td>\n",
       "      <td>GOSSELIES</td>\n",
       "      <td>1962-01-01T00:00:00</td>\n",
       "      <td>NaN</td>\n",
       "    </tr>\n",
       "    <tr>\n",
       "      <th>17</th>\n",
       "      <td>6450</td>\n",
       "      <td>POINT (51.191399 4.451755)</td>\n",
       "      <td>14.0</td>\n",
       "      <td>DEURNE</td>\n",
       "      <td>1952-01-01T00:00:00</td>\n",
       "      <td>NaN</td>\n",
       "    </tr>\n",
       "    <tr>\n",
       "      <th>18</th>\n",
       "      <td>6464</td>\n",
       "      <td>POINT (51.221395 5.027247)</td>\n",
       "      <td>21.5</td>\n",
       "      <td>RETIE</td>\n",
       "      <td>2002-02-14T01:00:00</td>\n",
       "      <td>NaN</td>\n",
       "    </tr>\n",
       "    <tr>\n",
       "      <th>19</th>\n",
       "      <td>6472</td>\n",
       "      <td>POINT (50.193663 5.255236)</td>\n",
       "      <td>295.3</td>\n",
       "      <td>HUMAIN</td>\n",
       "      <td>2002-04-01T00:00:00</td>\n",
       "      <td>NaN</td>\n",
       "    </tr>\n",
       "    <tr>\n",
       "      <th>20</th>\n",
       "      <td>6494</td>\n",
       "      <td>POINT (50.510779 6.073438)</td>\n",
       "      <td>673.2</td>\n",
       "      <td>MONT RIGI</td>\n",
       "      <td>2001-04-12T00:00:00</td>\n",
       "      <td>NaN</td>\n",
       "    </tr>\n",
       "    <tr>\n",
       "      <th>21</th>\n",
       "      <td>6484</td>\n",
       "      <td>POINT (49.620358 5.587229)</td>\n",
       "      <td>323.9</td>\n",
       "      <td>BUZENOL</td>\n",
       "      <td>2003-04-03T06:00:00</td>\n",
       "      <td>NaN</td>\n",
       "    </tr>\n",
       "  </tbody>\n",
       "</table>\n",
       "</div>"
      ],
      "text/plain": [
       "    code                    the_geom  altitude                  name  \\\n",
       "0   6490  POINT (50.478615 5.909864)     482.0       SPA (AERODROME)   \n",
       "1   6476  POINT (50.038875 5.403753)     557.0          SAINT-HUBERT   \n",
       "2   6414   POINT (50.90398 3.121692)      24.8                BEITEM   \n",
       "3   6418  POINT (51.347375 3.201846)      12.1             ZEEBRUGGE   \n",
       "4   6438  POINT (51.324802 4.363798)       4.0              STABROEK   \n",
       "5   6446  POINT (50.796862 4.357871)     100.6           UCCLE-UKKEL   \n",
       "6   6447  POINT (50.796862 4.357871)     100.6           UCCLE-UKKEL   \n",
       "7   6477  POINT (50.915458 5.450296)      39.3            DIEPENBEEK   \n",
       "8   6478  POINT (50.645282 5.458738)     178.0               BIERSET   \n",
       "9   6439  POINT (51.075125 4.524608)       8.3  SINT-KATELIJNE-WAVER   \n",
       "10  6407  POINT (51.200341 2.887306)       3.5           MIDDELKERKE   \n",
       "11  6434  POINT (50.980293 3.816003)      15.0                 MELLE   \n",
       "12  6447  POINT (50.796664 4.357875)     100.0   UCCLE-UKKEL (FERME)   \n",
       "13  6455   POINT (50.095445 4.59459)     234.8               DOURBES   \n",
       "14  6459  POINT (50.581913 4.689214)     159.2                ERNAGE   \n",
       "15  6451  POINT (50.896391 4.526765)      58.0    ZAVENTEM/MELSBROEK   \n",
       "16  6449  POINT (50.454432 4.442053)     192.0             GOSSELIES   \n",
       "17  6450  POINT (51.191399 4.451755)      14.0                DEURNE   \n",
       "18  6464  POINT (51.221395 5.027247)      21.5                 RETIE   \n",
       "19  6472  POINT (50.193663 5.255236)     295.3                HUMAIN   \n",
       "20  6494  POINT (50.510779 6.073438)     673.2             MONT RIGI   \n",
       "21  6484  POINT (49.620358 5.587229)     323.9               BUZENOL   \n",
       "\n",
       "             date_begin             date_end  \n",
       "0   1952-01-01T00:00:00                  NaN  \n",
       "1   1952-01-01T00:00:00                  NaN  \n",
       "2   2003-08-01T07:00:00                  NaN  \n",
       "3   2005-12-01T00:00:00                  NaN  \n",
       "4   2012-08-05T00:00:00                  NaN  \n",
       "5   2001-08-23T00:00:00  2003-12-09T08:00:00  \n",
       "6   2003-12-01T00:00:00                  NaN  \n",
       "7   2004-06-29T00:00:00                  NaN  \n",
       "8   1952-01-01T00:00:00                  NaN  \n",
       "9   2007-10-22T00:00:00                  NaN  \n",
       "10  1955-01-01T00:00:00                  NaN  \n",
       "11  2003-04-02T06:00:00                  NaN  \n",
       "12  1952-01-01T00:00:00  2003-11-30T23:00:00  \n",
       "13  2000-02-08T03:00:00                  NaN  \n",
       "14  2002-05-22T00:00:00                  NaN  \n",
       "15  1952-01-01T00:00:00                  NaN  \n",
       "16  1962-01-01T00:00:00                  NaN  \n",
       "17  1952-01-01T00:00:00                  NaN  \n",
       "18  2002-02-14T01:00:00                  NaN  \n",
       "19  2002-04-01T00:00:00                  NaN  \n",
       "20  2001-04-12T00:00:00                  NaN  \n",
       "21  2003-04-03T06:00:00                  NaN  "
      ]
     },
     "execution_count": 4,
     "metadata": {},
     "output_type": "execute_result"
    }
   ],
   "source": [
    "df_stations"
   ]
  },
  {
   "cell_type": "markdown",
   "metadata": {},
   "source": [
    "# Inspect the available parameters\n",
    "\n",
    "Let's see what data is in the wfs and what data we can use to filter upon."
   ]
  },
  {
   "cell_type": "code",
   "execution_count": 5,
   "metadata": {},
   "outputs": [
    {
     "data": {
      "text/plain": [
       "{'code': 'int',\n",
       " 'timestamp': 'dateTime',\n",
       " 'precip_quantity': 'decimal',\n",
       " 'precip_range': 'decimal',\n",
       " 'temp': 'decimal',\n",
       " 'temp_min': 'decimal',\n",
       " 'temp_max': 'decimal',\n",
       " 'temp_grass_min': 'decimal',\n",
       " 'wind_speed': 'decimal',\n",
       " 'wind_speed_unit': 'int',\n",
       " 'wind_direction': 'decimal',\n",
       " 'wind_peak_speed': 'decimal',\n",
       " 'humidity_relative': 'decimal',\n",
       " 'weather_current': 'int',\n",
       " 'pressure': 'decimal',\n",
       " 'pressure_station_level': 'decimal',\n",
       " 'sun_duration_24hours': 'decimal',\n",
       " 'short_wave_from_sky_24hours': 'decimal',\n",
       " 'cloudiness': 'decimal'}"
      ]
     },
     "execution_count": 5,
     "metadata": {},
     "output_type": "execute_result"
    }
   ],
   "source": [
    "kmi.get_parameters()"
   ]
  },
  {
   "cell_type": "markdown",
   "metadata": {},
   "source": [
    "# Generate stripes\n",
    "\n",
    "The code below generates the warning stripes for a number of stations with long time series."
   ]
  },
  {
   "cell_type": "code",
   "execution_count": 9,
   "metadata": {},
   "outputs": [
    {
     "data": {
      "image/png": "[encoded data removed]",
      "text/plain": [
       "<Figure size 720x72 with 1 Axes>"
      ]
     },
     "metadata": {
      "needs_background": "light"
     },
     "output_type": "display_data"
    },
    {
     "data": {
      "image/png": "[encoded data removed]",
      "text/plain": [
       "<Figure size 720x72 with 1 Axes>"
      ]
     },
     "metadata": {
      "needs_background": "light"
     },
     "output_type": "display_data"
    },
    {
     "data": {
      "image/png": "[encoded data removed]",
      "text/plain": [
       "<Figure size 720x72 with 1 Axes>"
      ]
     },
     "metadata": {
      "needs_background": "light"
     },
     "output_type": "display_data"
    },
    {
     "data": {
      "image/png": "[encoded data removed]",
      "text/plain": [
       "<Figure size 720x72 with 1 Axes>"
      ]
     },
     "metadata": {
      "needs_background": "light"
     },
     "output_type": "display_data"
    },
    {
     "data": {
      "image/png": "[encoded data removed]",
      "text/plain": [
       "<Figure size 720x72 with 1 Axes>"
      ]
     },
     "metadata": {
      "needs_background": "light"
     },
     "output_type": "display_data"
    },
    {
     "data": {
      "image/png": "[encoded data removed]",
      "text/plain": [
       "<Figure size 720x72 with 1 Axes>"
      ]
     },
     "metadata": {
      "needs_background": "light"
     },
     "output_type": "display_data"
    },
    {
     "data": {
      "image/png": "[encoded data removed]",
      "text/plain": [
       "<Figure size 720x72 with 1 Axes>"
      ]
     },
     "metadata": {
      "needs_background": "light"
     },
     "output_type": "display_data"
    }
   ],
   "source": [
    "for station_code in ['6447', '6451', '6450', '6407', '6476', '6478', '6490']:\n",
    "    # Get the data\n",
    "    df_r = kmi.get_data(station_code, parameter_list=['temp'])\n",
    "    # From the data it seems that in the past there was not always data for every hour but once every 3 hours.\n",
    "    # Therefore we filter the data to avoid a bias due to this.\n",
    "    # Note that there are still missing values in the data and the number of observations per year is not alwasy equal but for the general picture this should be enough.\n",
    "    df_r = df_r[df_r.index.hour.isin([0,3,6,9,12,15,18,21])]\n",
    "    \n",
    "    # Take the average value per year. Leave out the first and last year as they are generally incomplete\n",
    "    temp_year = df_r.dropna().groupby(df_r.dropna().index.year).mean().iloc[1:-1]\n",
    "\n",
    "    # This part of the code comes from the matplotlib doc:\n",
    "    # https://matplotlib.org/matplotblog/posts/warming-stripes/\n",
    "    # and has only been slightly adapted\n",
    "    FIRST = temp_year.index[0]\n",
    "    LAST = temp_year.index[-1]  # inclusive\n",
    "    FIRST_REFERENCE = FIRST\n",
    "    LAST_REFERENCE = LAST\n",
    "    LIM = 2\n",
    "\n",
    "    anomaly = temp_year.dropna()\n",
    "    reference = anomaly.loc[FIRST_REFERENCE:LAST_REFERENCE].mean()['temp']\n",
    "\n",
    "    cmap = ListedColormap([\n",
    "        '#08306b', '#08519c', '#2171b5', '#4292c6',\n",
    "        '#6baed6', '#9ecae1', '#c6dbef', '#deebf7',\n",
    "        '#fee0d2', '#fcbba1', '#fc9272', '#fb6a4a',\n",
    "        '#ef3b2c', '#cb181d', '#a50f15', '#67000d',\n",
    "    ])\n",
    "\n",
    "    fig = plt.figure(figsize=(10, 1))\n",
    "    \n",
    "    ax = fig.add_axes([0, 0, 1, 1])\n",
    "    ax.spines['top'].set_visible(False)\n",
    "    ax.spines['right'].set_visible(False)\n",
    "    ax.spines['left'].set_visible(False)\n",
    "    ax.spines['bottom'].set_visible(False)\n",
    "    ax.axes.yaxis.set_visible(False)\n",
    "    ax.tick_params(axis='x', which=u'both',length=0)\n",
    "\n",
    "    col = PatchCollection([\n",
    "        Rectangle((y, 0), 1, 1)\n",
    "        for y in range(FIRST, LAST + 1)\n",
    "    ])\n",
    "\n",
    "    col.set_array(anomaly['temp'])\n",
    "    col.set_cmap(cmap)\n",
    "    col.set_clim(reference - LIM, reference + LIM)\n",
    "    ax.add_collection(col)\n",
    "\n",
    "    ax.set_ylim(0, 1)\n",
    "    ax.set_xticks([FIRST, LAST])\n",
    "    ax.set_xticklabels([FIRST, LAST])\n",
    "    ax.set_xlim(FIRST, LAST + 1)\n",
    "    ax.set_title(df_stations.loc[df_stations['code'] == station_code, 'name'].values[0])"
   ]
  }
 ],
 "metadata": {
  "kernelspec": {
   "display_name": "haidro",
   "language": "python",
   "name": "haidro"
  },
  "language_info": {
   "codemirror_mode": {
    "name": "ipython",
    "version": 3
   },
   "file_extension": ".py",
   "mimetype": "text/x-python",
   "name": "python",
   "nbconvert_exporter": "python",
   "pygments_lexer": "ipython3",
   "version": "3.8.5"
  }
 },
 "nbformat": 4,
 "nbformat_minor": 4
}
