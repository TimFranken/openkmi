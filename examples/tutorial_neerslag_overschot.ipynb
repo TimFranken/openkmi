{
 "cells": [
  {
   "cell_type": "markdown",
   "metadata": {},
   "source": [
    "# Introduction\n",
    "\n",
    "\n",
    "This notebook uses the openkmi package to calculate the Penman-Monteith evapotranspiration and the corresponding rainfall deficit."
   ]
  },
  {
   "cell_type": "markdown",
   "metadata": {},
   "source": [
    "# Initialize the package"
   ]
  },
  {
   "cell_type": "markdown",
   "metadata": {},
   "source": [
    "First load the modules we will use"
   ]
  },
  {
   "cell_type": "code",
   "execution_count": 27,
   "metadata": {},
   "outputs": [],
   "source": [
    "import os\n",
    "import sys\n",
    "import matplotlib.pyplot as plt\n",
    "import matplotlib.dates as mdates\n",
    "import pandas as pd   \n",
    "from openkmi.point_obs import Synop\n",
    "import numpy as np\n",
    "import pyeto\n",
    "from pyeto import fao\n",
    "import datetime"
   ]
  },
  {
   "cell_type": "markdown",
   "metadata": {},
   "source": [
    "Then initialize the package"
   ]
  },
  {
   "cell_type": "code",
   "execution_count": 28,
   "metadata": {},
   "outputs": [],
   "source": [
    "kmi = Synop()"
   ]
  },
  {
   "cell_type": "code",
   "execution_count": 29,
   "metadata": {},
   "outputs": [
    {
     "data": {
      "text/html": [
       "<div>\n",
       "<style scoped>\n",
       "    .dataframe tbody tr th:only-of-type {\n",
       "        vertical-align: middle;\n",
       "    }\n",
       "\n",
       "    .dataframe tbody tr th {\n",
       "        vertical-align: top;\n",
       "    }\n",
       "\n",
       "    .dataframe thead th {\n",
       "        text-align: right;\n",
       "    }\n",
       "</style>\n",
       "<table border=\"1\" class=\"dataframe\">\n",
       "  <thead>\n",
       "    <tr style=\"text-align: right;\">\n",
       "      <th></th>\n",
       "      <th>the_geom</th>\n",
       "      <th>altitude</th>\n",
       "      <th>name</th>\n",
       "      <th>date_begin</th>\n",
       "      <th>date_end</th>\n",
       "    </tr>\n",
       "    <tr>\n",
       "      <th>code</th>\n",
       "      <th></th>\n",
       "      <th></th>\n",
       "      <th></th>\n",
       "      <th></th>\n",
       "      <th></th>\n",
       "    </tr>\n",
       "  </thead>\n",
       "  <tbody>\n",
       "    <tr>\n",
       "      <th>6490</th>\n",
       "      <td>POINT (50.478615 5.909864)</td>\n",
       "      <td>482.0</td>\n",
       "      <td>SPA (AERODROME)</td>\n",
       "      <td>1952-01-01T00:00:00</td>\n",
       "      <td>NaN</td>\n",
       "    </tr>\n",
       "    <tr>\n",
       "      <th>6476</th>\n",
       "      <td>POINT (50.038875 5.403753)</td>\n",
       "      <td>557.0</td>\n",
       "      <td>SAINT-HUBERT</td>\n",
       "      <td>1952-01-01T00:00:00</td>\n",
       "      <td>NaN</td>\n",
       "    </tr>\n",
       "    <tr>\n",
       "      <th>6414</th>\n",
       "      <td>POINT (50.90398 3.121692)</td>\n",
       "      <td>24.8</td>\n",
       "      <td>BEITEM</td>\n",
       "      <td>2003-08-01T07:00:00</td>\n",
       "      <td>NaN</td>\n",
       "    </tr>\n",
       "    <tr>\n",
       "      <th>6418</th>\n",
       "      <td>POINT (51.347375 3.201846)</td>\n",
       "      <td>12.1</td>\n",
       "      <td>ZEEBRUGGE</td>\n",
       "      <td>2005-12-01T00:00:00</td>\n",
       "      <td>NaN</td>\n",
       "    </tr>\n",
       "    <tr>\n",
       "      <th>6438</th>\n",
       "      <td>POINT (51.324802 4.363798)</td>\n",
       "      <td>4.0</td>\n",
       "      <td>STABROEK</td>\n",
       "      <td>2012-08-05T00:00:00</td>\n",
       "      <td>NaN</td>\n",
       "    </tr>\n",
       "    <tr>\n",
       "      <th>6446</th>\n",
       "      <td>POINT (50.796862 4.357871)</td>\n",
       "      <td>100.6</td>\n",
       "      <td>UCCLE-UKKEL</td>\n",
       "      <td>2001-08-23T00:00:00</td>\n",
       "      <td>2003-12-09T08:00:00</td>\n",
       "    </tr>\n",
       "    <tr>\n",
       "      <th>6447</th>\n",
       "      <td>POINT (50.796862 4.357871)</td>\n",
       "      <td>100.6</td>\n",
       "      <td>UCCLE-UKKEL</td>\n",
       "      <td>2003-12-01T00:00:00</td>\n",
       "      <td>NaN</td>\n",
       "    </tr>\n",
       "    <tr>\n",
       "      <th>6477</th>\n",
       "      <td>POINT (50.915458 5.450296)</td>\n",
       "      <td>39.3</td>\n",
       "      <td>DIEPENBEEK</td>\n",
       "      <td>2004-06-29T00:00:00</td>\n",
       "      <td>NaN</td>\n",
       "    </tr>\n",
       "    <tr>\n",
       "      <th>6478</th>\n",
       "      <td>POINT (50.645282 5.458738)</td>\n",
       "      <td>178.0</td>\n",
       "      <td>BIERSET</td>\n",
       "      <td>1952-01-01T00:00:00</td>\n",
       "      <td>NaN</td>\n",
       "    </tr>\n",
       "    <tr>\n",
       "      <th>6439</th>\n",
       "      <td>POINT (51.075125 4.524608)</td>\n",
       "      <td>8.3</td>\n",
       "      <td>SINT-KATELIJNE-WAVER</td>\n",
       "      <td>2007-10-22T00:00:00</td>\n",
       "      <td>NaN</td>\n",
       "    </tr>\n",
       "    <tr>\n",
       "      <th>6407</th>\n",
       "      <td>POINT (51.200341 2.887306)</td>\n",
       "      <td>3.5</td>\n",
       "      <td>MIDDELKERKE</td>\n",
       "      <td>1955-01-01T00:00:00</td>\n",
       "      <td>NaN</td>\n",
       "    </tr>\n",
       "    <tr>\n",
       "      <th>6434</th>\n",
       "      <td>POINT (50.980293 3.816003)</td>\n",
       "      <td>15.0</td>\n",
       "      <td>MELLE</td>\n",
       "      <td>2003-04-02T06:00:00</td>\n",
       "      <td>NaN</td>\n",
       "    </tr>\n",
       "    <tr>\n",
       "      <th>6455</th>\n",
       "      <td>POINT (50.095445 4.59459)</td>\n",
       "      <td>234.8</td>\n",
       "      <td>DOURBES</td>\n",
       "      <td>2000-02-08T03:00:00</td>\n",
       "      <td>NaN</td>\n",
       "    </tr>\n",
       "    <tr>\n",
       "      <th>6459</th>\n",
       "      <td>POINT (50.581913 4.689214)</td>\n",
       "      <td>159.2</td>\n",
       "      <td>ERNAGE</td>\n",
       "      <td>2002-05-22T00:00:00</td>\n",
       "      <td>NaN</td>\n",
       "    </tr>\n",
       "    <tr>\n",
       "      <th>6451</th>\n",
       "      <td>POINT (50.896391 4.526765)</td>\n",
       "      <td>58.0</td>\n",
       "      <td>ZAVENTEM/MELSBROEK</td>\n",
       "      <td>1952-01-01T00:00:00</td>\n",
       "      <td>NaN</td>\n",
       "    </tr>\n",
       "    <tr>\n",
       "      <th>6449</th>\n",
       "      <td>POINT (50.454432 4.442053)</td>\n",
       "      <td>192.0</td>\n",
       "      <td>GOSSELIES</td>\n",
       "      <td>1962-01-01T00:00:00</td>\n",
       "      <td>NaN</td>\n",
       "    </tr>\n",
       "    <tr>\n",
       "      <th>6450</th>\n",
       "      <td>POINT (51.191399 4.451755)</td>\n",
       "      <td>14.0</td>\n",
       "      <td>DEURNE</td>\n",
       "      <td>1952-01-01T00:00:00</td>\n",
       "      <td>NaN</td>\n",
       "    </tr>\n",
       "    <tr>\n",
       "      <th>6464</th>\n",
       "      <td>POINT (51.221395 5.027247)</td>\n",
       "      <td>21.5</td>\n",
       "      <td>RETIE</td>\n",
       "      <td>2002-02-14T01:00:00</td>\n",
       "      <td>NaN</td>\n",
       "    </tr>\n",
       "    <tr>\n",
       "      <th>6472</th>\n",
       "      <td>POINT (50.193663 5.255236)</td>\n",
       "      <td>295.3</td>\n",
       "      <td>HUMAIN</td>\n",
       "      <td>2002-04-01T00:00:00</td>\n",
       "      <td>NaN</td>\n",
       "    </tr>\n",
       "    <tr>\n",
       "      <th>6494</th>\n",
       "      <td>POINT (50.510779 6.073438)</td>\n",
       "      <td>673.2</td>\n",
       "      <td>MONT RIGI</td>\n",
       "      <td>2001-04-12T00:00:00</td>\n",
       "      <td>NaN</td>\n",
       "    </tr>\n",
       "    <tr>\n",
       "      <th>6484</th>\n",
       "      <td>POINT (49.620358 5.587229)</td>\n",
       "      <td>323.9</td>\n",
       "      <td>BUZENOL</td>\n",
       "      <td>2003-04-03T06:00:00</td>\n",
       "      <td>NaN</td>\n",
       "    </tr>\n",
       "  </tbody>\n",
       "</table>\n",
       "</div>"
      ],
      "text/plain": [
       "                        the_geom  altitude                  name  \\\n",
       "code                                                               \n",
       "6490  POINT (50.478615 5.909864)     482.0       SPA (AERODROME)   \n",
       "6476  POINT (50.038875 5.403753)     557.0          SAINT-HUBERT   \n",
       "6414   POINT (50.90398 3.121692)      24.8                BEITEM   \n",
       "6418  POINT (51.347375 3.201846)      12.1             ZEEBRUGGE   \n",
       "6438  POINT (51.324802 4.363798)       4.0              STABROEK   \n",
       "6446  POINT (50.796862 4.357871)     100.6           UCCLE-UKKEL   \n",
       "6447  POINT (50.796862 4.357871)     100.6           UCCLE-UKKEL   \n",
       "6477  POINT (50.915458 5.450296)      39.3            DIEPENBEEK   \n",
       "6478  POINT (50.645282 5.458738)     178.0               BIERSET   \n",
       "6439  POINT (51.075125 4.524608)       8.3  SINT-KATELIJNE-WAVER   \n",
       "6407  POINT (51.200341 2.887306)       3.5           MIDDELKERKE   \n",
       "6434  POINT (50.980293 3.816003)      15.0                 MELLE   \n",
       "6455   POINT (50.095445 4.59459)     234.8               DOURBES   \n",
       "6459  POINT (50.581913 4.689214)     159.2                ERNAGE   \n",
       "6451  POINT (50.896391 4.526765)      58.0    ZAVENTEM/MELSBROEK   \n",
       "6449  POINT (50.454432 4.442053)     192.0             GOSSELIES   \n",
       "6450  POINT (51.191399 4.451755)      14.0                DEURNE   \n",
       "6464  POINT (51.221395 5.027247)      21.5                 RETIE   \n",
       "6472  POINT (50.193663 5.255236)     295.3                HUMAIN   \n",
       "6494  POINT (50.510779 6.073438)     673.2             MONT RIGI   \n",
       "6484  POINT (49.620358 5.587229)     323.9               BUZENOL   \n",
       "\n",
       "               date_begin             date_end  \n",
       "code                                            \n",
       "6490  1952-01-01T00:00:00                  NaN  \n",
       "6476  1952-01-01T00:00:00                  NaN  \n",
       "6414  2003-08-01T07:00:00                  NaN  \n",
       "6418  2005-12-01T00:00:00                  NaN  \n",
       "6438  2012-08-05T00:00:00                  NaN  \n",
       "6446  2001-08-23T00:00:00  2003-12-09T08:00:00  \n",
       "6447  2003-12-01T00:00:00                  NaN  \n",
       "6477  2004-06-29T00:00:00                  NaN  \n",
       "6478  1952-01-01T00:00:00                  NaN  \n",
       "6439  2007-10-22T00:00:00                  NaN  \n",
       "6407  1955-01-01T00:00:00                  NaN  \n",
       "6434  2003-04-02T06:00:00                  NaN  \n",
       "6455  2000-02-08T03:00:00                  NaN  \n",
       "6459  2002-05-22T00:00:00                  NaN  \n",
       "6451  1952-01-01T00:00:00                  NaN  \n",
       "6449  1962-01-01T00:00:00                  NaN  \n",
       "6450  1952-01-01T00:00:00                  NaN  \n",
       "6464  2002-02-14T01:00:00                  NaN  \n",
       "6472  2002-04-01T00:00:00                  NaN  \n",
       "6494  2001-04-12T00:00:00                  NaN  \n",
       "6484  2003-04-03T06:00:00                  NaN  "
      ]
     },
     "execution_count": 29,
     "metadata": {},
     "output_type": "execute_result"
    }
   ],
   "source": [
    "stations = kmi.get_stations().set_index('code')\n",
    "stations = stations[~stations.index.duplicated(keep='first')]\n",
    "\n",
    "stations"
   ]
  },
  {
   "cell_type": "markdown",
   "metadata": {},
   "source": [
    "Let's choose a station for which to do the analysis:"
   ]
  },
  {
   "cell_type": "code",
   "execution_count": 30,
   "metadata": {},
   "outputs": [],
   "source": [
    "#Ukkel:\n",
    "station_code = '6447'"
   ]
  },
  {
   "cell_type": "markdown",
   "metadata": {},
   "source": [
    "# Fetch rainfall data"
   ]
  },
  {
   "cell_type": "code",
   "execution_count": 31,
   "metadata": {},
   "outputs": [],
   "source": [
    "from owslib.fes import PropertyIsEqualTo\n",
    "custom_filt = PropertyIsEqualTo(propertyname='precip_range', literal='2')\n",
    "df_r = kmi.get_data(station_code, start_date='1950-01-01T00:00:00', end_date= datetime.datetime.now().strftime('%Y-%m-%dT00:00:00'),\n",
    "                    parameter_list=['precip_quantity'], custom_filter=custom_filt)\n",
    "df_r = df_r[df_r.index.hour.isin([6,18])]"
   ]
  },
  {
   "cell_type": "code",
   "execution_count": 32,
   "metadata": {},
   "outputs": [],
   "source": [
    "df_r = df_r.resample('d').sum()\n",
    "# We assume values over 200mm / day are not realistic\n",
    "df_r.loc[df_r['precip_quantity'] > 200, 'precip_quantity']= 0"
   ]
  },
  {
   "cell_type": "code",
   "execution_count": 33,
   "metadata": {},
   "outputs": [
    {
     "data": {
      "text/plain": [
       "<AxesSubplot:xlabel='timestamp'>"
      ]
     },
     "execution_count": 33,
     "metadata": {},
     "output_type": "execute_result"
    },
    {
     "data": {
      "image/png": "[encoded data removed]",
      "text/plain": [
       "<Figure size 864x360 with 1 Axes>"
      ]
     },
     "metadata": {
      "needs_background": "light"
     },
     "output_type": "display_data"
    }
   ],
   "source": [
    "fig, ax = plt.subplots(figsize=(12,5))\n",
    "df_r.resample('y').sum().plot.bar(ax=ax, legend=False)"
   ]
  },
  {
   "cell_type": "markdown",
   "metadata": {},
   "source": [
    "# Calculate Penman-Monteith\n",
    "\n",
    "We estimate reference evapotranspiration (ETo) from a hypothetical short grass reference surface using the FAO-56 Penman-Monteith equation. More info on the Penman-Monteith equation can be found here:\n",
    "\n",
    "https://www.fao.org/3/x0490e/x0490e08.htm#TopOfPage\n",
    "\n",
    "Inputting all the equations ourselves would take a lot of time. Luckily there is a nice package that we can use: pyeto:\n",
    "\n",
    "https://pyeto.readthedocs.io/en/latest/\n",
    "\n",
    "## Collect and validate input data"
   ]
  },
  {
   "cell_type": "code",
   "execution_count": 34,
   "metadata": {},
   "outputs": [],
   "source": [
    "df = kmi.get_data(station_code, start_date='1950-01-01T00:00:00', end_date= datetime.datetime.now().strftime('%Y-%m-%dT00:00:00'),\n",
    "                    parameter_list=['temp', 'humidity_relative', 'wind_speed', 'sun_duration_24hours', 'pressure'])"
   ]
  },
  {
   "cell_type": "code",
   "execution_count": 35,
   "metadata": {},
   "outputs": [],
   "source": [
    "# Some RH's are larger than 100 which obviously is not possible:\n",
    "df.loc[df['humidity_relative'] > 100, 'humidity_relative'] = 100"
   ]
  },
  {
   "cell_type": "code",
   "execution_count": 36,
   "metadata": {},
   "outputs": [],
   "source": [
    "# Transform to daily mean, min and max values\n",
    "df_d = df.resample('d').mean()[['temp', 'wind_speed', 'sun_duration_24hours']]\n",
    "df_d['tmin'] = df.resample('d').min()['temp']\n",
    "df_d['tmax'] = df.resample('d').max()['temp']\n",
    "df_d['rh_min'] = df.resample('d').min()['humidity_relative']\n",
    "df_d['rh_max'] = df.resample('d').max()['humidity_relative']\n",
    "# Sun duration is in minutes while we need it in hours\n",
    "df_d['sun_duration_24hours'] = df_d['sun_duration_24hours'] / 60\n",
    "df_d['doy'] = df_d.index.dayofyear"
   ]
  },
  {
   "cell_type": "code",
   "execution_count": 37,
   "metadata": {},
   "outputs": [
    {
     "name": "stdout",
     "output_type": "stream",
     "text": [
      "Use linear interpolation for wind_speed to fill 147 values\n",
      "Use linear interpolation for temp to fill 4 values\n",
      "Use linear interpolation for tmin to fill 4 values\n",
      "Use linear interpolation for tmax to fill 4 values\n"
     ]
    }
   ],
   "source": [
    "# Filling some \"smaller\" gaps\n",
    "for c in ['wind_speed', 'temp', 'tmin', 'tmax']:\n",
    "    print(f'Use linear interpolation for {c} to fill {df_d[df_d[c].isna()].shape[0]} values')\n",
    "    df_d[c] = df_d[c].interpolate()"
   ]
  },
  {
   "cell_type": "code",
   "execution_count": 38,
   "metadata": {},
   "outputs": [
    {
     "data": {
      "text/html": [
       "<div>\n",
       "<style scoped>\n",
       "    .dataframe tbody tr th:only-of-type {\n",
       "        vertical-align: middle;\n",
       "    }\n",
       "\n",
       "    .dataframe tbody tr th {\n",
       "        vertical-align: top;\n",
       "    }\n",
       "\n",
       "    .dataframe thead th {\n",
       "        text-align: right;\n",
       "    }\n",
       "</style>\n",
       "<table border=\"1\" class=\"dataframe\">\n",
       "  <thead>\n",
       "    <tr style=\"text-align: right;\">\n",
       "      <th></th>\n",
       "      <th>temp</th>\n",
       "      <th>wind_speed</th>\n",
       "      <th>sun_duration_24hours</th>\n",
       "      <th>tmin</th>\n",
       "      <th>tmax</th>\n",
       "      <th>rh_min</th>\n",
       "      <th>rh_max</th>\n",
       "      <th>doy</th>\n",
       "    </tr>\n",
       "  </thead>\n",
       "  <tbody>\n",
       "    <tr>\n",
       "      <th>count</th>\n",
       "      <td>25754.000000</td>\n",
       "      <td>25754.000000</td>\n",
       "      <td>2743.000000</td>\n",
       "      <td>25754.000000</td>\n",
       "      <td>25754.000000</td>\n",
       "      <td>17319.000000</td>\n",
       "      <td>17319.000000</td>\n",
       "      <td>25754.000000</td>\n",
       "    </tr>\n",
       "    <tr>\n",
       "      <th>mean</th>\n",
       "      <td>10.364889</td>\n",
       "      <td>3.463117</td>\n",
       "      <td>4.528995</td>\n",
       "      <td>7.280075</td>\n",
       "      <td>13.639774</td>\n",
       "      <td>61.628106</td>\n",
       "      <td>93.054318</td>\n",
       "      <td>182.481517</td>\n",
       "    </tr>\n",
       "    <tr>\n",
       "      <th>std</th>\n",
       "      <td>6.390919</td>\n",
       "      <td>1.601514</td>\n",
       "      <td>4.277999</td>\n",
       "      <td>5.771726</td>\n",
       "      <td>7.345155</td>\n",
       "      <td>16.647662</td>\n",
       "      <td>7.425517</td>\n",
       "      <td>105.433872</td>\n",
       "    </tr>\n",
       "    <tr>\n",
       "      <th>min</th>\n",
       "      <td>-13.875000</td>\n",
       "      <td>0.000000</td>\n",
       "      <td>0.000000</td>\n",
       "      <td>-16.200000</td>\n",
       "      <td>-12.000000</td>\n",
       "      <td>6.409500</td>\n",
       "      <td>41.500000</td>\n",
       "      <td>1.000000</td>\n",
       "    </tr>\n",
       "    <tr>\n",
       "      <th>25%</th>\n",
       "      <td>5.693750</td>\n",
       "      <td>2.312500</td>\n",
       "      <td>0.400000</td>\n",
       "      <td>3.000000</td>\n",
       "      <td>8.000000</td>\n",
       "      <td>49.363400</td>\n",
       "      <td>90.200000</td>\n",
       "      <td>91.000000</td>\n",
       "    </tr>\n",
       "    <tr>\n",
       "      <th>50%</th>\n",
       "      <td>10.527083</td>\n",
       "      <td>3.187500</td>\n",
       "      <td>3.533333</td>\n",
       "      <td>7.700000</td>\n",
       "      <td>13.800000</td>\n",
       "      <td>61.900000</td>\n",
       "      <td>94.134200</td>\n",
       "      <td>182.000000</td>\n",
       "    </tr>\n",
       "    <tr>\n",
       "      <th>75%</th>\n",
       "      <td>15.250000</td>\n",
       "      <td>4.337500</td>\n",
       "      <td>7.733333</td>\n",
       "      <td>12.000000</td>\n",
       "      <td>19.000000</td>\n",
       "      <td>74.600000</td>\n",
       "      <td>100.000000</td>\n",
       "      <td>274.000000</td>\n",
       "    </tr>\n",
       "    <tr>\n",
       "      <th>max</th>\n",
       "      <td>29.975000</td>\n",
       "      <td>15.444444</td>\n",
       "      <td>14.800000</td>\n",
       "      <td>23.700000</td>\n",
       "      <td>39.500000</td>\n",
       "      <td>100.000000</td>\n",
       "      <td>100.000000</td>\n",
       "      <td>366.000000</td>\n",
       "    </tr>\n",
       "  </tbody>\n",
       "</table>\n",
       "</div>"
      ],
      "text/plain": [
       "               temp    wind_speed  sun_duration_24hours          tmin  \\\n",
       "count  25754.000000  25754.000000           2743.000000  25754.000000   \n",
       "mean      10.364889      3.463117              4.528995      7.280075   \n",
       "std        6.390919      1.601514              4.277999      5.771726   \n",
       "min      -13.875000      0.000000              0.000000    -16.200000   \n",
       "25%        5.693750      2.312500              0.400000      3.000000   \n",
       "50%       10.527083      3.187500              3.533333      7.700000   \n",
       "75%       15.250000      4.337500              7.733333     12.000000   \n",
       "max       29.975000     15.444444             14.800000     23.700000   \n",
       "\n",
       "               tmax        rh_min        rh_max           doy  \n",
       "count  25754.000000  17319.000000  17319.000000  25754.000000  \n",
       "mean      13.639774     61.628106     93.054318    182.481517  \n",
       "std        7.345155     16.647662      7.425517    105.433872  \n",
       "min      -12.000000      6.409500     41.500000      1.000000  \n",
       "25%        8.000000     49.363400     90.200000     91.000000  \n",
       "50%       13.800000     61.900000     94.134200    182.000000  \n",
       "75%       19.000000     74.600000    100.000000    274.000000  \n",
       "max       39.500000    100.000000    100.000000    366.000000  "
      ]
     },
     "execution_count": 38,
     "metadata": {},
     "output_type": "execute_result"
    }
   ],
   "source": [
    "df_d.describe()"
   ]
  },
  {
   "cell_type": "code",
   "execution_count": 39,
   "metadata": {},
   "outputs": [
    {
     "name": "stdout",
     "output_type": "stream",
     "text": [
      "first date for temp = 1952-01-01 00:00:00+00:00\n",
      "first date for wind_speed = 1952-01-01 00:00:00+00:00\n",
      "first date for sun_duration_24hours = 2015-01-01 00:00:00+00:00\n",
      "first date for tmin = 1952-01-01 00:00:00+00:00\n",
      "first date for tmax = 1952-01-01 00:00:00+00:00\n",
      "first date for rh_min = 1975-02-01 00:00:00+00:00\n",
      "first date for rh_max = 1975-02-01 00:00:00+00:00\n",
      "first date for doy = 1952-01-01 00:00:00+00:00\n"
     ]
    }
   ],
   "source": [
    "for c in df_d.columns:\n",
    "    print(f'first date for {c} = {df_d[c].first_valid_index()}')"
   ]
  },
  {
   "cell_type": "markdown",
   "metadata": {},
   "source": [
    "Important to note that for sun_duration and RH we only have data from 2015 and 1975 respectively. So if we want a historical reference we need to take that into acccount."
   ]
  },
  {
   "cell_type": "markdown",
   "metadata": {},
   "source": [
    "## Calculation"
   ]
  },
  {
   "cell_type": "code",
   "execution_count": 40,
   "metadata": {},
   "outputs": [],
   "source": [
    "# This function uses pyeto to calculate the penman-monteith evp for Uccle\n",
    "def get_montheith_evp(tmin, tmax, rh_min, rh_max, tmean, sunshine_hours, day_of_year, ws, altitude=100, lat=50.48):\n",
    "    svp_tmin = pyeto.svp_from_t(tmin)\n",
    "    svp_tmax = pyeto.svp_from_t(tmax)\n",
    "    # If RH not availble that we use tmin instead of RH\n",
    "    if not np.isnan(rh_max) and not np.isnan(rh_max):\n",
    "        ea = pyeto.avp_from_rhmin_rhmax(svp_tmin, svp_tmax, rh_min, rh_max)\n",
    "    else:\n",
    "        ea = pyeto.avp_from_tmin(tmin)\n",
    "    es = pyeto.mean_svp(tmin, tmax)\n",
    "    sol_dec = pyeto.sol_dec(day_of_year)\n",
    "    sha = pyeto.sunset_hour_angle(pyeto.deg2rad(lat), sol_dec)\n",
    "    daylight_hours = pyeto.daylight_hours(sha)\n",
    "    ird = pyeto.inv_rel_dist_earth_sun(day_of_year)\n",
    "    et_rad = pyeto.et_rad(pyeto.deg2rad(lat), sol_dec, sha, ird)\n",
    "    cs_rad = pyeto.cs_rad(pyeto.deg2rad(lat), et_rad)\n",
    "    # If sunshine hours not available that we calculate it from temperature\n",
    "    if not np.isnan(sunshine_hours):\n",
    "        sol_rad = pyeto.sol_rad_from_sun_hours(daylight_hours, sunshine_hours, et_rad)\n",
    "    else:\n",
    "        sol_rad = pyeto.sol_rad_from_t(et_rad, cs_rad, tmin, tmax, False)\n",
    "    ni_sw_rad = pyeto.net_in_sol_rad(sol_rad, albedo=0.23)\n",
    "    no_lw_rad = pyeto.net_out_lw_rad(tmin +273.16, tmax + 273.16, sol_rad, cs_rad, ea)\n",
    "    net_rad = pyeto.net_rad(ni_sw_rad, no_lw_rad)\n",
    "    delta_svp = pyeto.delta_svp(tmean)\n",
    "    psy = pyeto.psy_const(pyeto.atm_pressure(altitude))\n",
    "    return float(pyeto.fao56_penman_monteith(net_rad, tmean+ 273.16, ws, es, ea, delta_svp, psy, shf=0.0))"
   ]
  },
  {
   "cell_type": "code",
   "execution_count": 41,
   "metadata": {},
   "outputs": [],
   "source": [
    "# We first test for function based on example 18 in FAO manual [https://www.fao.org/3/x0490e/x0490e08.htm#TopOfPage]:\n",
    "\n",
    "rh_max = 84\n",
    "rh_min = 63\n",
    "tmin = 12.3\n",
    "tmax = 21.5\n",
    "tmean = 16.9\n",
    "sunshine_hours = 9.25\n",
    "day_of_year = 187\n",
    "altitude = 100\n",
    "ws = 2.078\n",
    "\n",
    "assert(round(get_montheith_evp(tmin, tmax, rh_min, rh_max, tmean, sunshine_hours, day_of_year, ws), 1) == 3.9)"
   ]
  },
  {
   "cell_type": "code",
   "execution_count": 42,
   "metadata": {},
   "outputs": [],
   "source": [
    "# Now we calculate the evp for each row. Note that more efficient solutions are available but not the main goal for this tutorial\n",
    "df_d['evp'] = np.nan\n",
    "for i in df_d.index:\n",
    "    df_d.loc[i, 'evp'] = get_montheith_evp(df_d.loc[i, 'tmin'], df_d.loc[i, 'tmax'], df_d.loc[i, 'rh_min'], df_d.loc[i, 'rh_max'], df_d.loc[i, 'temp'], \n",
    "                                           df_d.loc[i, 'sun_duration_24hours'], df_d.loc[i, 'doy'], df_d.loc[i, 'wind_speed'], altitude=stations.loc[station_code, 'altitude'],\n",
    "                                          lat=float(stations.loc[station_code, 'the_geom'].split('(')[1].split(' ')[0]))"
   ]
  },
  {
   "cell_type": "markdown",
   "metadata": {},
   "source": [
    "# Calculate rainfall deficit\n",
    "\n",
    "Now we have the rainfall and the evapotranspiration so we can calculate the rainfall deficit."
   ]
  },
  {
   "cell_type": "code",
   "execution_count": 43,
   "metadata": {},
   "outputs": [],
   "source": [
    "df_f = df_r.join(df_d['evp'])\n",
    "df_f['neerslagtekort'] = df_f['evp'] - df_f['precip_quantity']"
   ]
  },
  {
   "cell_type": "code",
   "execution_count": 44,
   "metadata": {},
   "outputs": [],
   "source": [
    "# Pivot the df so we can easily check the plot\n",
    "df_f['year'] = df_d.index.year\n",
    "df_f['doy'] = df_d.index.dayofyear\n",
    "df_dd = df_f.pivot(index='doy', columns='year', values='neerslagtekort')\n",
    "# We sort of ignore the leap years for now\n",
    "df_dd = df_dd.iloc[:-1,:]"
   ]
  },
  {
   "cell_type": "code",
   "execution_count": 45,
   "metadata": {},
   "outputs": [
    {
     "data": {
      "text/plain": [
       "Text(0.5, 1.0, 'UCCLE-UKKEL')"
      ]
     },
     "execution_count": 45,
     "metadata": {},
     "output_type": "execute_result"
    },
    {
     "data": {
      "image/png": "[encoded data removed]",
      "text/plain": [
       "<Figure size 720x360 with 1 Axes>"
      ]
     },
     "metadata": {
      "needs_background": "light"
     },
     "output_type": "display_data"
    }
   ],
   "source": [
    "# Make a nice overview plot\n",
    "plt.rcParams['font.family'] = 'MonoSpace'\n",
    "\n",
    "fig, ax = plt.subplots(figsize=(10,5), constrained_layout=True)\n",
    "\n",
    "# We start from april first in the plot which is doy: 91 (still neglecting leap years)\n",
    "trunc = 91\n",
    "xas = [datetime.datetime(2021, 1, 1) + datetime.timedelta(x - 1) for x in df_dd.index]\n",
    "ax.fill_between(xas[trunc-1:], df_dd.truncate(before=trunc).cumsum().min(axis=1), df_dd.truncate(before=trunc).cumsum().max(axis=1), alpha=.2, color='steelblue')\n",
    "ax.fill_between(xas[trunc-1:], df_dd.truncate(before=trunc).cumsum().quantile(.1, axis=1), df_dd.truncate(before=trunc).cumsum().quantile(.9, axis=1), color='steelblue', alpha=.4)\n",
    "ax.plot(xas[trunc-1:], df_dd.truncate(before=trunc).cumsum().quantile(.5, axis=1))\n",
    "ax.plot(xas[trunc-1:], df_dd[2022].truncate(before=trunc).cumsum(),  color='black')\n",
    "ax.plot(xas[trunc-1:], df_dd[1976].truncate(before=trunc).cumsum(),  color='tomato')\n",
    "ax.plot(xas[trunc-1:], df_dd[2021].truncate(before=trunc).cumsum(),  color='limegreen')\n",
    "ax.plot(xas[trunc-1:], df_dd[2020].truncate(before=trunc).cumsum(),  color='yellow')\n",
    "ax.grid()\n",
    "ax.set_ylim([-100,500])\n",
    "myFmt = mdates.DateFormatter('%d/%m')\n",
    "ax.xaxis.set_major_formatter(myFmt)\n",
    "ax.legend(['Mediaan', '2022', '1976', '2021', '2020', 'Min-Max', 'Q1-Q90'], loc=2)\n",
    "ax.set_ylabel('Rainfall deficit [mm]')\n",
    "ax.set_xlabel('Date')\n",
    "ax.set_title(stations.loc[station_code, 'name'])"
   ]
  },
  {
   "cell_type": "markdown",
   "metadata": {},
   "source": [
    "Note that the plots do not fully correspond to the \"official\" plots made by Patrick Willems. Differences might be due to:\n",
    "* Inconsistencies in the data (both availability and quality)\n",
    "* Inconsistencies in the calculation method being used"
   ]
  }
 ],
 "metadata": {
  "kernelspec": {
   "display_name": "haidro",
   "language": "python",
   "name": "haidro"
  },
  "language_info": {
   "codemirror_mode": {
    "name": "ipython",
    "version": 3
   },
   "file_extension": ".py",
   "mimetype": "text/x-python",
   "name": "python",
   "nbconvert_exporter": "python",
   "pygments_lexer": "ipython3",
   "version": "3.8.5"
  }
 },
 "nbformat": 4,
 "nbformat_minor": 4
}
