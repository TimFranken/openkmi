{
 "cells": [
  {
   "cell_type": "markdown",
   "metadata": {},
   "source": [
    "# Introduction\n",
    "\n",
    "This notebook introduces the PyKMI package and how to use this to collect the synoptic observations from KMI.\n",
    "\n",
    "pyKMI serves as a wrapper around the WFS service that KMI offers to download the synoptic measurements.\n",
    "\n",
    "See the following links for the metadata of the service:\n",
    "\n",
    "* https://opendata.meteo.be/geonetwork/srv/eng/catalog.search;jsessionid=A7FEA3AF21132DE8B1DA8A2CD1746597#/metadata/RMI_DATASET_SYNOP\n",
    "* https://opendata.meteo.be/documentation/?dataset=synop\n"
   ]
  },
  {
   "cell_type": "markdown",
   "metadata": {},
   "source": [
    "# Initialize the package"
   ]
  },
  {
   "cell_type": "markdown",
   "metadata": {},
   "source": [
    "First load the modules we will use"
   ]
  },
  {
   "cell_type": "code",
   "execution_count": 12,
   "metadata": {},
   "outputs": [],
   "source": [
    "import os\n",
    "import sys\n",
    "import matplotlib.pyplot as plt\n",
    "import pandas as pd\n",
    "\n",
    "# Paths goedzetten\n",
    "module_path = os.path.abspath(os.path.join('..'))\n",
    "if module_path not in sys.path:\n",
    "    sys.path.append(module_path)\n",
    "    \n",
    "from pyrmi.synoptic import Synop"
   ]
  },
  {
   "cell_type": "markdown",
   "metadata": {},
   "source": [
    "Then initialize the package"
   ]
  },
  {
   "cell_type": "code",
   "execution_count": 13,
   "metadata": {},
   "outputs": [],
   "source": [
    "kmi = Synop()"
   ]
  },
  {
   "cell_type": "markdown",
   "metadata": {},
   "source": [
    "# Inspect the available stations"
   ]
  },
  {
   "cell_type": "markdown",
   "metadata": {},
   "source": [
    "You can use pyKMI to get an overview of all stations where you can collect the data for"
   ]
  },
  {
   "cell_type": "code",
   "execution_count": 9,
   "metadata": {},
   "outputs": [
    {
     "name": "stdout",
     "output_type": "stream",
     "text": [
      "There are 22 stations available\n"
     ]
    }
   ],
   "source": [
    "df_stations = kmi.get_stations()\n",
    "print(f'There are {df_stations.shape[0]} stations available')"
   ]
  },
  {
   "cell_type": "code",
   "execution_count": 10,
   "metadata": {},
   "outputs": [
    {
     "data": {
      "text/html": [
       "<div>\n",
       "<style scoped>\n",
       "    .dataframe tbody tr th:only-of-type {\n",
       "        vertical-align: middle;\n",
       "    }\n",
       "\n",
       "    .dataframe tbody tr th {\n",
       "        vertical-align: top;\n",
       "    }\n",
       "\n",
       "    .dataframe thead th {\n",
       "        text-align: right;\n",
       "    }\n",
       "</style>\n",
       "<table border=\"1\" class=\"dataframe\">\n",
       "  <thead>\n",
       "    <tr style=\"text-align: right;\">\n",
       "      <th></th>\n",
       "      <th>code</th>\n",
       "      <th>the_geom</th>\n",
       "      <th>altitude</th>\n",
       "      <th>name</th>\n",
       "      <th>date_begin</th>\n",
       "      <th>date_end</th>\n",
       "    </tr>\n",
       "  </thead>\n",
       "  <tbody>\n",
       "    <tr>\n",
       "      <th>0</th>\n",
       "      <td>6490</td>\n",
       "      <td>POINT (50.478615 5.909864)</td>\n",
       "      <td>482.0</td>\n",
       "      <td>SPA (AERODROME)</td>\n",
       "      <td>1952-01-01T00:00:00</td>\n",
       "      <td>NaN</td>\n",
       "    </tr>\n",
       "    <tr>\n",
       "      <th>1</th>\n",
       "      <td>6476</td>\n",
       "      <td>POINT (50.038875 5.403753)</td>\n",
       "      <td>557.0</td>\n",
       "      <td>SAINT-HUBERT</td>\n",
       "      <td>1952-01-01T00:00:00</td>\n",
       "      <td>NaN</td>\n",
       "    </tr>\n",
       "    <tr>\n",
       "      <th>2</th>\n",
       "      <td>6414</td>\n",
       "      <td>POINT (50.90398 3.121692)</td>\n",
       "      <td>24.8</td>\n",
       "      <td>BEITEM</td>\n",
       "      <td>2003-08-01T07:00:00</td>\n",
       "      <td>NaN</td>\n",
       "    </tr>\n",
       "    <tr>\n",
       "      <th>3</th>\n",
       "      <td>6418</td>\n",
       "      <td>POINT (51.347375 3.201846)</td>\n",
       "      <td>12.1</td>\n",
       "      <td>ZEEBRUGGE</td>\n",
       "      <td>2005-12-01T00:00:00</td>\n",
       "      <td>NaN</td>\n",
       "    </tr>\n",
       "    <tr>\n",
       "      <th>4</th>\n",
       "      <td>6438</td>\n",
       "      <td>POINT (51.324802 4.363798)</td>\n",
       "      <td>4.0</td>\n",
       "      <td>STABROEK</td>\n",
       "      <td>2012-08-05T00:00:00</td>\n",
       "      <td>NaN</td>\n",
       "    </tr>\n",
       "    <tr>\n",
       "      <th>5</th>\n",
       "      <td>6446</td>\n",
       "      <td>POINT (50.796862 4.357871)</td>\n",
       "      <td>100.6</td>\n",
       "      <td>UCCLE-UKKEL</td>\n",
       "      <td>2001-08-23T00:00:00</td>\n",
       "      <td>2003-12-09T08:00:00</td>\n",
       "    </tr>\n",
       "    <tr>\n",
       "      <th>6</th>\n",
       "      <td>6447</td>\n",
       "      <td>POINT (50.796862 4.357871)</td>\n",
       "      <td>100.6</td>\n",
       "      <td>UCCLE-UKKEL</td>\n",
       "      <td>2003-12-01T00:00:00</td>\n",
       "      <td>NaN</td>\n",
       "    </tr>\n",
       "    <tr>\n",
       "      <th>7</th>\n",
       "      <td>6477</td>\n",
       "      <td>POINT (50.915458 5.450296)</td>\n",
       "      <td>39.3</td>\n",
       "      <td>DIEPENBEEK</td>\n",
       "      <td>2004-06-29T00:00:00</td>\n",
       "      <td>NaN</td>\n",
       "    </tr>\n",
       "    <tr>\n",
       "      <th>8</th>\n",
       "      <td>6478</td>\n",
       "      <td>POINT (50.645282 5.458738)</td>\n",
       "      <td>178.0</td>\n",
       "      <td>BIERSET</td>\n",
       "      <td>1952-01-01T00:00:00</td>\n",
       "      <td>NaN</td>\n",
       "    </tr>\n",
       "    <tr>\n",
       "      <th>9</th>\n",
       "      <td>6439</td>\n",
       "      <td>POINT (51.075125 4.524608)</td>\n",
       "      <td>8.3</td>\n",
       "      <td>SINT-KATELIJNE-WAVER</td>\n",
       "      <td>2007-10-22T00:00:00</td>\n",
       "      <td>NaN</td>\n",
       "    </tr>\n",
       "    <tr>\n",
       "      <th>10</th>\n",
       "      <td>6407</td>\n",
       "      <td>POINT (51.200341 2.887306)</td>\n",
       "      <td>3.5</td>\n",
       "      <td>MIDDELKERKE</td>\n",
       "      <td>1955-01-01T00:00:00</td>\n",
       "      <td>NaN</td>\n",
       "    </tr>\n",
       "    <tr>\n",
       "      <th>11</th>\n",
       "      <td>6434</td>\n",
       "      <td>POINT (50.980293 3.816003)</td>\n",
       "      <td>15.0</td>\n",
       "      <td>MELLE</td>\n",
       "      <td>2003-04-02T06:00:00</td>\n",
       "      <td>NaN</td>\n",
       "    </tr>\n",
       "    <tr>\n",
       "      <th>12</th>\n",
       "      <td>6447</td>\n",
       "      <td>POINT (50.796664 4.357875)</td>\n",
       "      <td>100.0</td>\n",
       "      <td>UCCLE-UKKEL (FERME)</td>\n",
       "      <td>1952-01-01T00:00:00</td>\n",
       "      <td>2003-11-30T23:00:00</td>\n",
       "    </tr>\n",
       "    <tr>\n",
       "      <th>13</th>\n",
       "      <td>6455</td>\n",
       "      <td>POINT (50.095445 4.59459)</td>\n",
       "      <td>234.8</td>\n",
       "      <td>DOURBES</td>\n",
       "      <td>2000-02-08T03:00:00</td>\n",
       "      <td>NaN</td>\n",
       "    </tr>\n",
       "    <tr>\n",
       "      <th>14</th>\n",
       "      <td>6459</td>\n",
       "      <td>POINT (50.581913 4.689214)</td>\n",
       "      <td>159.2</td>\n",
       "      <td>ERNAGE</td>\n",
       "      <td>2002-05-22T00:00:00</td>\n",
       "      <td>NaN</td>\n",
       "    </tr>\n",
       "    <tr>\n",
       "      <th>15</th>\n",
       "      <td>6451</td>\n",
       "      <td>POINT (50.896391 4.526765)</td>\n",
       "      <td>58.0</td>\n",
       "      <td>ZAVENTEM/MELSBROEK</td>\n",
       "      <td>1952-01-01T00:00:00</td>\n",
       "      <td>NaN</td>\n",
       "    </tr>\n",
       "    <tr>\n",
       "      <th>16</th>\n",
       "      <td>6449</td>\n",
       "      <td>POINT (50.454432 4.442053)</td>\n",
       "      <td>192.0</td>\n",
       "      <td>GOSSELIES</td>\n",
       "      <td>1962-01-01T00:00:00</td>\n",
       "      <td>NaN</td>\n",
       "    </tr>\n",
       "    <tr>\n",
       "      <th>17</th>\n",
       "      <td>6450</td>\n",
       "      <td>POINT (51.191399 4.451755)</td>\n",
       "      <td>14.0</td>\n",
       "      <td>DEURNE</td>\n",
       "      <td>1952-01-01T00:00:00</td>\n",
       "      <td>NaN</td>\n",
       "    </tr>\n",
       "    <tr>\n",
       "      <th>18</th>\n",
       "      <td>6464</td>\n",
       "      <td>POINT (51.221395 5.027247)</td>\n",
       "      <td>21.5</td>\n",
       "      <td>RETIE</td>\n",
       "      <td>2002-02-14T01:00:00</td>\n",
       "      <td>NaN</td>\n",
       "    </tr>\n",
       "    <tr>\n",
       "      <th>19</th>\n",
       "      <td>6472</td>\n",
       "      <td>POINT (50.193663 5.255236)</td>\n",
       "      <td>295.3</td>\n",
       "      <td>HUMAIN</td>\n",
       "      <td>2002-04-01T00:00:00</td>\n",
       "      <td>NaN</td>\n",
       "    </tr>\n",
       "    <tr>\n",
       "      <th>20</th>\n",
       "      <td>6494</td>\n",
       "      <td>POINT (50.510779 6.073438)</td>\n",
       "      <td>673.2</td>\n",
       "      <td>MONT RIGI</td>\n",
       "      <td>2001-04-12T00:00:00</td>\n",
       "      <td>NaN</td>\n",
       "    </tr>\n",
       "    <tr>\n",
       "      <th>21</th>\n",
       "      <td>6484</td>\n",
       "      <td>POINT (49.620358 5.587229)</td>\n",
       "      <td>323.9</td>\n",
       "      <td>BUZENOL</td>\n",
       "      <td>2003-04-03T06:00:00</td>\n",
       "      <td>NaN</td>\n",
       "    </tr>\n",
       "  </tbody>\n",
       "</table>\n",
       "</div>"
      ],
      "text/plain": [
       "    code                    the_geom  altitude                  name           date_begin             date_end\n",
       "0   6490  POINT (50.478615 5.909864)     482.0       SPA (AERODROME)  1952-01-01T00:00:00                  NaN\n",
       "1   6476  POINT (50.038875 5.403753)     557.0          SAINT-HUBERT  1952-01-01T00:00:00                  NaN\n",
       "2   6414   POINT (50.90398 3.121692)      24.8                BEITEM  2003-08-01T07:00:00                  NaN\n",
       "3   6418  POINT (51.347375 3.201846)      12.1             ZEEBRUGGE  2005-12-01T00:00:00                  NaN\n",
       "4   6438  POINT (51.324802 4.363798)       4.0              STABROEK  2012-08-05T00:00:00                  NaN\n",
       "5   6446  POINT (50.796862 4.357871)     100.6           UCCLE-UKKEL  2001-08-23T00:00:00  2003-12-09T08:00:00\n",
       "6   6447  POINT (50.796862 4.357871)     100.6           UCCLE-UKKEL  2003-12-01T00:00:00                  NaN\n",
       "7   6477  POINT (50.915458 5.450296)      39.3            DIEPENBEEK  2004-06-29T00:00:00                  NaN\n",
       "8   6478  POINT (50.645282 5.458738)     178.0               BIERSET  1952-01-01T00:00:00                  NaN\n",
       "9   6439  POINT (51.075125 4.524608)       8.3  SINT-KATELIJNE-WAVER  2007-10-22T00:00:00                  NaN\n",
       "10  6407  POINT (51.200341 2.887306)       3.5           MIDDELKERKE  1955-01-01T00:00:00                  NaN\n",
       "11  6434  POINT (50.980293 3.816003)      15.0                 MELLE  2003-04-02T06:00:00                  NaN\n",
       "12  6447  POINT (50.796664 4.357875)     100.0   UCCLE-UKKEL (FERME)  1952-01-01T00:00:00  2003-11-30T23:00:00\n",
       "13  6455   POINT (50.095445 4.59459)     234.8               DOURBES  2000-02-08T03:00:00                  NaN\n",
       "14  6459  POINT (50.581913 4.689214)     159.2                ERNAGE  2002-05-22T00:00:00                  NaN\n",
       "15  6451  POINT (50.896391 4.526765)      58.0    ZAVENTEM/MELSBROEK  1952-01-01T00:00:00                  NaN\n",
       "16  6449  POINT (50.454432 4.442053)     192.0             GOSSELIES  1962-01-01T00:00:00                  NaN\n",
       "17  6450  POINT (51.191399 4.451755)      14.0                DEURNE  1952-01-01T00:00:00                  NaN\n",
       "18  6464  POINT (51.221395 5.027247)      21.5                 RETIE  2002-02-14T01:00:00                  NaN\n",
       "19  6472  POINT (50.193663 5.255236)     295.3                HUMAIN  2002-04-01T00:00:00                  NaN\n",
       "20  6494  POINT (50.510779 6.073438)     673.2             MONT RIGI  2001-04-12T00:00:00                  NaN\n",
       "21  6484  POINT (49.620358 5.587229)     323.9               BUZENOL  2003-04-03T06:00:00                  NaN"
      ]
     },
     "execution_count": 10,
     "metadata": {},
     "output_type": "execute_result"
    }
   ],
   "source": [
    "df_stations"
   ]
  },
  {
   "cell_type": "markdown",
   "metadata": {},
   "source": [
    "# Inspect the available parameters\n",
    "\n",
    "Let's see what data is in the wfs and what data we can use to filter upon."
   ]
  },
  {
   "cell_type": "code",
   "execution_count": 14,
   "metadata": {},
   "outputs": [
    {
     "data": {
      "text/plain": [
       "{'code': 'int',\n",
       " 'timestamp': 'dateTime',\n",
       " 'precip_quantity': 'decimal',\n",
       " 'precip_range': 'decimal',\n",
       " 'temp': 'decimal',\n",
       " 'temp_min': 'decimal',\n",
       " 'temp_max': 'decimal',\n",
       " 'temp_grass_min': 'decimal',\n",
       " 'wind_speed': 'decimal',\n",
       " 'wind_speed_unit': 'int',\n",
       " 'wind_direction': 'decimal',\n",
       " 'wind_peak_speed': 'decimal',\n",
       " 'humidity_relative': 'decimal',\n",
       " 'weather_current': 'int',\n",
       " 'pressure': 'decimal',\n",
       " 'pressure_station_level': 'decimal',\n",
       " 'sun_duration_24hours': 'decimal',\n",
       " 'short_wave_from_sky_24hours': 'decimal',\n",
       " 'cloudiness': 'decimal'}"
      ]
     },
     "execution_count": 14,
     "metadata": {},
     "output_type": "execute_result"
    }
   ],
   "source": [
    "kmi.get_parameters()"
   ]
  },
  {
   "cell_type": "markdown",
   "metadata": {},
   "source": [
    "# Download data\n",
    "\n",
    "For downloading the data you need to provide at least the station code. Optional parameters are:\n",
    "* **start_date and end_date**: These are used to limit the requested data\n",
    "* **parameter_list**: List of parameters to download\n",
    "\n",
    "## Example: Wind speed\n",
    "\n",
    "To get the wind speed for the station at Stabroek from 2021 - now you can use the following command:"
   ]
  },
  {
   "cell_type": "code",
   "execution_count": 15,
   "metadata": {},
   "outputs": [],
   "source": [
    "df_r = kmi.get_data('6438', start_date='2021-01-01T00:00:00', parameter_list=['wind_speed'])"
   ]
  },
  {
   "cell_type": "code",
   "execution_count": 20,
   "metadata": {},
   "outputs": [
    {
     "data": {
      "text/html": [
       "<div>\n",
       "<style scoped>\n",
       "    .dataframe tbody tr th:only-of-type {\n",
       "        vertical-align: middle;\n",
       "    }\n",
       "\n",
       "    .dataframe tbody tr th {\n",
       "        vertical-align: top;\n",
       "    }\n",
       "\n",
       "    .dataframe thead th {\n",
       "        text-align: right;\n",
       "    }\n",
       "</style>\n",
       "<table border=\"1\" class=\"dataframe\">\n",
       "  <thead>\n",
       "    <tr style=\"text-align: right;\">\n",
       "      <th></th>\n",
       "      <th>wind_speed</th>\n",
       "    </tr>\n",
       "    <tr>\n",
       "      <th>timestamp</th>\n",
       "      <th></th>\n",
       "    </tr>\n",
       "  </thead>\n",
       "  <tbody>\n",
       "    <tr>\n",
       "      <th>2021-01-01 00:00:00</th>\n",
       "      <td>1.000</td>\n",
       "    </tr>\n",
       "    <tr>\n",
       "      <th>2021-01-01 01:00:00</th>\n",
       "      <td>0.000</td>\n",
       "    </tr>\n",
       "    <tr>\n",
       "      <th>2021-01-01 02:00:00</th>\n",
       "      <td>1.000</td>\n",
       "    </tr>\n",
       "    <tr>\n",
       "      <th>2021-01-01 03:00:00</th>\n",
       "      <td>1.000</td>\n",
       "    </tr>\n",
       "    <tr>\n",
       "      <th>2021-01-01 04:00:00</th>\n",
       "      <td>1.388</td>\n",
       "    </tr>\n",
       "  </tbody>\n",
       "</table>\n",
       "</div>"
      ],
      "text/plain": [
       "                     wind_speed\n",
       "timestamp                      \n",
       "2021-01-01 00:00:00       1.000\n",
       "2021-01-01 01:00:00       0.000\n",
       "2021-01-01 02:00:00       1.000\n",
       "2021-01-01 03:00:00       1.000\n",
       "2021-01-01 04:00:00       1.388"
      ]
     },
     "execution_count": 20,
     "metadata": {},
     "output_type": "execute_result"
    }
   ],
   "source": [
    "df_r.head()"
   ]
  },
  {
   "cell_type": "code",
   "execution_count": 19,
   "metadata": {},
   "outputs": [
    {
     "data": {
      "text/plain": [
       "<matplotlib.axes._subplots.AxesSubplot at 0x1e79c3dd470>"
      ]
     },
     "execution_count": 19,
     "metadata": {},
     "output_type": "execute_result"
    },
    {
     "data": {
      "image/png": "[encoded data removed]",
      "text/plain": [
       "<Figure size 1080x360 with 1 Axes>"
      ]
     },
     "metadata": {
      "needs_background": "light"
     },
     "output_type": "display_data"
    }
   ],
   "source": [
    "fix, ax = plt.subplots(figsize=(15,5))\n",
    "df_r.plot(ax=ax)"
   ]
  },
  {
   "cell_type": "markdown",
   "metadata": {},
   "source": [
    "## Example: Precipitation\n",
    "\n",
    "Precipitation is not available on an hourly timescale. According to the metadata are 2 different precipitation ranges available:\n",
    "\n",
    "* Value at 0600UT: sum of precipitation between 1750-0550UT (12h)\n",
    "* Value at 1200UT: sum of precipitation between 0550-1150UT (6h)\n",
    "* Value at 1800UT: sum of precipitation between 0550-1750UT (12h)\n",
    "* Value at 0000UT: sum of precipitation between 1750-2350UT (6h)\n",
    "\n",
    "We first request both the precipitation quanitity and the precipitation range for the station of Ukkel"
   ]
  },
  {
   "cell_type": "code",
   "execution_count": 28,
   "metadata": {},
   "outputs": [],
   "source": [
    "df_r = kmi.get_data('6447', start_date='2020-01-01T00:00:00', end_date= '2022-01-01T00:00:00', parameter_list=['precip_quantity', 'precip_range'])"
   ]
  },
  {
   "cell_type": "code",
   "execution_count": 29,
   "metadata": {},
   "outputs": [
    {
     "data": {
      "text/html": [
       "<div>\n",
       "<style scoped>\n",
       "    .dataframe tbody tr th:only-of-type {\n",
       "        vertical-align: middle;\n",
       "    }\n",
       "\n",
       "    .dataframe tbody tr th {\n",
       "        vertical-align: top;\n",
       "    }\n",
       "\n",
       "    .dataframe thead th {\n",
       "        text-align: right;\n",
       "    }\n",
       "</style>\n",
       "<table border=\"1\" class=\"dataframe\">\n",
       "  <thead>\n",
       "    <tr style=\"text-align: right;\">\n",
       "      <th></th>\n",
       "      <th>precip_quantity</th>\n",
       "      <th>precip_range</th>\n",
       "    </tr>\n",
       "    <tr>\n",
       "      <th>timestamp</th>\n",
       "      <th></th>\n",
       "      <th></th>\n",
       "    </tr>\n",
       "  </thead>\n",
       "  <tbody>\n",
       "    <tr>\n",
       "      <th>2020-01-01 00:00:00</th>\n",
       "      <td>0.0</td>\n",
       "      <td>1.0</td>\n",
       "    </tr>\n",
       "    <tr>\n",
       "      <th>2020-01-01 06:00:00</th>\n",
       "      <td>0.0</td>\n",
       "      <td>2.0</td>\n",
       "    </tr>\n",
       "    <tr>\n",
       "      <th>2020-01-01 12:00:00</th>\n",
       "      <td>0.0</td>\n",
       "      <td>1.0</td>\n",
       "    </tr>\n",
       "    <tr>\n",
       "      <th>2020-01-01 18:00:00</th>\n",
       "      <td>0.0</td>\n",
       "      <td>2.0</td>\n",
       "    </tr>\n",
       "    <tr>\n",
       "      <th>2020-01-02 00:00:00</th>\n",
       "      <td>0.0</td>\n",
       "      <td>1.0</td>\n",
       "    </tr>\n",
       "    <tr>\n",
       "      <th>2020-01-02 06:00:00</th>\n",
       "      <td>0.0</td>\n",
       "      <td>2.0</td>\n",
       "    </tr>\n",
       "    <tr>\n",
       "      <th>2020-01-02 12:00:00</th>\n",
       "      <td>0.0</td>\n",
       "      <td>1.0</td>\n",
       "    </tr>\n",
       "    <tr>\n",
       "      <th>2020-01-02 18:00:00</th>\n",
       "      <td>0.1</td>\n",
       "      <td>2.0</td>\n",
       "    </tr>\n",
       "    <tr>\n",
       "      <th>2020-01-03 00:00:00</th>\n",
       "      <td>0.0</td>\n",
       "      <td>1.0</td>\n",
       "    </tr>\n",
       "    <tr>\n",
       "      <th>2020-01-03 06:00:00</th>\n",
       "      <td>0.0</td>\n",
       "      <td>2.0</td>\n",
       "    </tr>\n",
       "  </tbody>\n",
       "</table>\n",
       "</div>"
      ],
      "text/plain": [
       "                     precip_quantity  precip_range\n",
       "timestamp                                         \n",
       "2020-01-01 00:00:00              0.0           1.0\n",
       "2020-01-01 06:00:00              0.0           2.0\n",
       "2020-01-01 12:00:00              0.0           1.0\n",
       "2020-01-01 18:00:00              0.0           2.0\n",
       "2020-01-02 00:00:00              0.0           1.0\n",
       "2020-01-02 06:00:00              0.0           2.0\n",
       "2020-01-02 12:00:00              0.0           1.0\n",
       "2020-01-02 18:00:00              0.1           2.0\n",
       "2020-01-03 00:00:00              0.0           1.0\n",
       "2020-01-03 06:00:00              0.0           2.0"
      ]
     },
     "execution_count": 29,
     "metadata": {},
     "output_type": "execute_result"
    }
   ],
   "source": [
    "df_r.dropna().head(10)"
   ]
  },
  {
   "cell_type": "markdown",
   "metadata": {},
   "source": [
    "This list contains a mix of data measured over a 6h period (precip_range=1) and over a 12h period (precip_range=2).\n",
    "To get cumulative volumes we want to filter out only those measured over the 12h period"
   ]
  },
  {
   "cell_type": "code",
   "execution_count": 30,
   "metadata": {},
   "outputs": [],
   "source": [
    "df_r = df_r.loc[df_r['precip_range'] == 2, 'precip_quantity']"
   ]
  },
  {
   "cell_type": "code",
   "execution_count": 36,
   "metadata": {},
   "outputs": [
    {
     "data": {
      "text/plain": [
       "<matplotlib.axes._subplots.AxesSubplot at 0x1e79dc68630>"
      ]
     },
     "execution_count": 36,
     "metadata": {},
     "output_type": "execute_result"
    },
    {
     "data": {
      "image/png": "[encoded data removed]",
      "text/plain": [
       "<Figure size 720x360 with 1 Axes>"
      ]
     },
     "metadata": {
      "needs_background": "light"
     },
     "output_type": "display_data"
    }
   ],
   "source": [
    "fix, ax = plt.subplots(figsize=(10,5))\n",
    "df_r.cumsum().plot(ax=ax)"
   ]
  },
  {
   "cell_type": "code",
   "execution_count": 34,
   "metadata": {},
   "outputs": [
    {
     "data": {
      "text/plain": [
       "timestamp\n",
       "2020     723.1\n",
       "2021    1035.6\n",
       "Name: precip_quantity, dtype: float64"
      ]
     },
     "execution_count": 34,
     "metadata": {},
     "output_type": "execute_result"
    }
   ],
   "source": [
    "df_r.groupby(df_r.index.year).sum()"
   ]
  }
 ],
 "metadata": {
  "kernelspec": {
   "display_name": "Python 3",
   "language": "python",
   "name": "python3"
  },
  "language_info": {
   "codemirror_mode": {
    "name": "ipython",
    "version": 3
   },
   "file_extension": ".py",
   "mimetype": "text/x-python",
   "name": "python",
   "nbconvert_exporter": "python",
   "pygments_lexer": "ipython3",
   "version": "3.7.3"
  }
 },
 "nbformat": 4,
 "nbformat_minor": 4
}
